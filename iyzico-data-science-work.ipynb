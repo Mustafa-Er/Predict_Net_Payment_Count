{
 "cells": [
  {
   "cell_type": "code",
   "execution_count": 1,
   "id": "d6f09a44",
   "metadata": {
    "execution": {
     "iopub.execute_input": "2024-05-08T11:15:52.452156Z",
     "iopub.status.busy": "2024-05-08T11:15:52.451260Z",
     "iopub.status.idle": "2024-05-08T11:16:05.847635Z",
     "shell.execute_reply": "2024-05-08T11:16:05.846358Z"
    },
    "papermill": {
     "duration": 13.432033,
     "end_time": "2024-05-08T11:16:05.849871",
     "exception": false,
     "start_time": "2024-05-08T11:15:52.417838",
     "status": "completed"
    },
    "tags": []
   },
   "outputs": [
    {
     "name": "stdout",
     "output_type": "stream",
     "text": [
      "Collecting scikit-posthocs\r\n",
      "  Downloading scikit_posthocs-0.9.0-py3-none-any.whl.metadata (5.8 kB)\r\n",
      "Requirement already satisfied: numpy in /opt/conda/lib/python3.10/site-packages (from scikit-posthocs) (1.26.4)\r\n",
      "Requirement already satisfied: scipy>=1.9.0 in /opt/conda/lib/python3.10/site-packages (from scikit-posthocs) (1.11.4)\r\n",
      "Requirement already satisfied: statsmodels in /opt/conda/lib/python3.10/site-packages (from scikit-posthocs) (0.14.1)\r\n",
      "Requirement already satisfied: pandas>=0.20.0 in /opt/conda/lib/python3.10/site-packages (from scikit-posthocs) (2.1.4)\r\n",
      "Requirement already satisfied: seaborn in /opt/conda/lib/python3.10/site-packages (from scikit-posthocs) (0.12.2)\r\n",
      "Requirement already satisfied: matplotlib in /opt/conda/lib/python3.10/site-packages (from scikit-posthocs) (3.7.5)\r\n",
      "Requirement already satisfied: python-dateutil>=2.8.2 in /opt/conda/lib/python3.10/site-packages (from pandas>=0.20.0->scikit-posthocs) (2.9.0.post0)\r\n",
      "Requirement already satisfied: pytz>=2020.1 in /opt/conda/lib/python3.10/site-packages (from pandas>=0.20.0->scikit-posthocs) (2023.3.post1)\r\n",
      "Requirement already satisfied: tzdata>=2022.1 in /opt/conda/lib/python3.10/site-packages (from pandas>=0.20.0->scikit-posthocs) (2023.4)\r\n",
      "Requirement already satisfied: contourpy>=1.0.1 in /opt/conda/lib/python3.10/site-packages (from matplotlib->scikit-posthocs) (1.2.0)\r\n",
      "Requirement already satisfied: cycler>=0.10 in /opt/conda/lib/python3.10/site-packages (from matplotlib->scikit-posthocs) (0.12.1)\r\n",
      "Requirement already satisfied: fonttools>=4.22.0 in /opt/conda/lib/python3.10/site-packages (from matplotlib->scikit-posthocs) (4.47.0)\r\n",
      "Requirement already satisfied: kiwisolver>=1.0.1 in /opt/conda/lib/python3.10/site-packages (from matplotlib->scikit-posthocs) (1.4.5)\r\n",
      "Requirement already satisfied: packaging>=20.0 in /opt/conda/lib/python3.10/site-packages (from matplotlib->scikit-posthocs) (21.3)\r\n",
      "Requirement already satisfied: pillow>=6.2.0 in /opt/conda/lib/python3.10/site-packages (from matplotlib->scikit-posthocs) (9.5.0)\r\n",
      "Requirement already satisfied: pyparsing>=2.3.1 in /opt/conda/lib/python3.10/site-packages (from matplotlib->scikit-posthocs) (3.1.1)\r\n",
      "Requirement already satisfied: patsy>=0.5.4 in /opt/conda/lib/python3.10/site-packages (from statsmodels->scikit-posthocs) (0.5.6)\r\n",
      "Requirement already satisfied: six in /opt/conda/lib/python3.10/site-packages (from patsy>=0.5.4->statsmodels->scikit-posthocs) (1.16.0)\r\n",
      "Downloading scikit_posthocs-0.9.0-py3-none-any.whl (32 kB)\r\n",
      "Installing collected packages: scikit-posthocs\r\n",
      "Successfully installed scikit-posthocs-0.9.0\r\n",
      "Note: you may need to restart the kernel to use updated packages.\n"
     ]
    }
   ],
   "source": [
    "pip install scikit-posthocs"
   ]
  },
  {
   "cell_type": "code",
   "execution_count": 2,
   "id": "2e933ca6",
   "metadata": {
    "execution": {
     "iopub.execute_input": "2024-05-08T11:16:05.910287Z",
     "iopub.status.busy": "2024-05-08T11:16:05.909959Z",
     "iopub.status.idle": "2024-05-08T11:16:05.914078Z",
     "shell.execute_reply": "2024-05-08T11:16:05.913317Z"
    },
    "papermill": {
     "duration": 0.036584,
     "end_time": "2024-05-08T11:16:05.916010",
     "exception": false,
     "start_time": "2024-05-08T11:16:05.879426",
     "status": "completed"
    },
    "tags": []
   },
   "outputs": [],
   "source": [
    "#pip install holidays"
   ]
  },
  {
   "cell_type": "code",
   "execution_count": 3,
   "id": "b31661c1",
   "metadata": {
    "_cell_guid": "b1076dfc-b9ad-4769-8c92-a6c4dae69d19",
    "_uuid": "8f2839f25d086af736a60e9eeb907d3b93b6e0e5",
    "execution": {
     "iopub.execute_input": "2024-05-08T11:16:05.975215Z",
     "iopub.status.busy": "2024-05-08T11:16:05.974931Z",
     "iopub.status.idle": "2024-05-08T11:16:08.415702Z",
     "shell.execute_reply": "2024-05-08T11:16:08.414474Z"
    },
    "papermill": {
     "duration": 2.472621,
     "end_time": "2024-05-08T11:16:08.417735",
     "exception": false,
     "start_time": "2024-05-08T11:16:05.945114",
     "status": "completed"
    },
    "tags": []
   },
   "outputs": [
    {
     "name": "stdout",
     "output_type": "stream",
     "text": [
      "/kaggle/input/iyzico-datathon/sample_submission.csv\n",
      "/kaggle/input/iyzico-datathon/train.csv\n"
     ]
    }
   ],
   "source": [
    "# This Python 3 environment comes with many helpful analytics libraries installed\n",
    "# It is defined by the kaggle/python Docker image: https://github.com/kaggle/docker-python\n",
    "# For example, here's several helpful packages to load\n",
    "\n",
    "import numpy as np # linear algebra\n",
    "import pandas as pd # data processing, CSV file I/O (e.g. pd.read_csv)\n",
    "import matplotlib.pyplot as plt\n",
    "import seaborn as sns\n",
    "import time\n",
    "import holidays\n",
    "import warnings\n",
    "import itertools\n",
    "\n",
    "from sklearn.preprocessing import StandardScaler\n",
    "from sklearn.model_selection import TimeSeriesSplit\n",
    "from sklearn.metrics import mean_absolute_error\n",
    "from catboost import CatBoostRegressor\n",
    "from xgboost import XGBRegressor\n",
    "\n",
    "from scipy.stats import kruskal\n",
    "from scikit_posthocs import posthoc_nemenyi\n",
    "from statsmodels.stats.multitest import multipletests\n",
    "\n",
    "\n",
    "# Input data files are available in the read-only \"../input/\" directory\n",
    "# For example, running this (by clicking run or pressing Shift+Enter) will list all files under the input directory\n",
    "import os\n",
    "for dirname, _, filenames in os.walk('/kaggle/input'):\n",
    "    for filename in filenames:\n",
    "        print(os.path.join(dirname, filename))\n",
    "\n",
    "# You can write up to 20GB to the current directory (/kaggle/working/) that gets preserved as output when you create a version using \"Save & Run All\" \n",
    "# You can also write temporary files to /kaggle/temp/, but they won't be saved outside of the current session\n",
    "\n",
    "# Ignore all warnings\n",
    "warnings.filterwarnings(\"ignore\")"
   ]
  },
  {
   "cell_type": "markdown",
   "id": "c85f0e51",
   "metadata": {
    "papermill": {
     "duration": 0.028999,
     "end_time": "2024-05-08T11:16:08.476489",
     "exception": false,
     "start_time": "2024-05-08T11:16:08.447490",
     "status": "completed"
    },
    "tags": []
   },
   "source": [
    "**Train ve Test Veri Setleri**\n",
    "\n",
    "- **merchant_id** Maskelenmiş iş yeri ID'si\n",
    "- **month_id** İşlemin yapıldığı ay (YYYYMM formatında)\n",
    "- **merchant_source** İş yerinin iyzico’ya katıldığı kaynak\n",
    "- **settlement_period** İş yerinin hak edişini alış sıklığı\n",
    "- **working_type** İş yerinin tipini gösterir\n",
    "- **mcc_id** İş yerinin satış yaptığı kategori bilgisini gösterir\n",
    "- **merchant_segment** İş yerinin iyzico içerisinde bulunduğu segmenti gösterir\n",
    "- **net_payment_count** İş yerinin ilgili ay içerisinde geçirdiği net (ödeme - iptal - iade) işlem sayısıdır"
   ]
  },
  {
   "cell_type": "markdown",
   "id": "2bd312a8",
   "metadata": {
    "papermill": {
     "duration": 0.028543,
     "end_time": "2024-05-08T11:16:08.533656",
     "exception": false,
     "start_time": "2024-05-08T11:16:08.505113",
     "status": "completed"
    },
    "tags": []
   },
   "source": [
    "# CONFIGURATION"
   ]
  },
  {
   "cell_type": "code",
   "execution_count": 4,
   "id": "d5a5ce9e",
   "metadata": {
    "execution": {
     "iopub.execute_input": "2024-05-08T11:16:08.592741Z",
     "iopub.status.busy": "2024-05-08T11:16:08.592237Z",
     "iopub.status.idle": "2024-05-08T11:16:08.598350Z",
     "shell.execute_reply": "2024-05-08T11:16:08.597560Z"
    },
    "papermill": {
     "duration": 0.037776,
     "end_time": "2024-05-08T11:16:08.600189",
     "exception": false,
     "start_time": "2024-05-08T11:16:08.562413",
     "status": "completed"
    },
    "tags": []
   },
   "outputs": [],
   "source": [
    "class config:\n",
    "    dir_train = \"/kaggle/input/iyzico-datathon/train.csv\"\n",
    "    dir_sub = \"/kaggle/input/iyzico-datathon/sample_submission.csv\"\n",
    "    add_cumsum_merchant_id = True\n",
    "    add_monthly_inflation_data = True\n",
    "    add_holidays = False\n",
    "    add_count_ofbreak_oniyzico = True\n",
    "    add_monthly_average_temperature_values = True\n",
    "    add_is_once_insysyem = False\n",
    "    add_quarter = False\n",
    "    add_seasonality_feature = False\n",
    "    add_oil_prices = True\n",
    "    add_lag_fetures = False\n",
    "    add_roll_mean_features = True\n",
    "    add_ewm_features = False\n",
    "    add_statisctic_metrics = True\n",
    "    add_quantiles = False\n",
    "    add_frequences = True\n",
    "    add_payU_stock = True\n",
    "    \n",
    "    use_one_hot_encoder_technique = False\n",
    "    use_hyperparameter_tuning_technique = False\n",
    "    \n",
    "    \n",
    "    seed = 42\n",
    "    n_splits = 5"
   ]
  },
  {
   "cell_type": "markdown",
   "id": "f4ea30d9",
   "metadata": {
    "papermill": {
     "duration": 0.028849,
     "end_time": "2024-05-08T11:16:08.658089",
     "exception": false,
     "start_time": "2024-05-08T11:16:08.629240",
     "status": "completed"
    },
    "tags": []
   },
   "source": [
    "# UTILS"
   ]
  },
  {
   "cell_type": "code",
   "execution_count": 5,
   "id": "6277dc37",
   "metadata": {
    "execution": {
     "iopub.execute_input": "2024-05-08T11:16:08.717252Z",
     "iopub.status.busy": "2024-05-08T11:16:08.716971Z",
     "iopub.status.idle": "2024-05-08T11:16:08.725436Z",
     "shell.execute_reply": "2024-05-08T11:16:08.724730Z"
    },
    "papermill": {
     "duration": 0.040317,
     "end_time": "2024-05-08T11:16:08.727324",
     "exception": false,
     "start_time": "2024-05-08T11:16:08.687007",
     "status": "completed"
    },
    "tags": []
   },
   "outputs": [],
   "source": [
    "def preprocess(dataframe: pd.DataFrame) -> pd.DataFrame:\n",
    "    \"\"\"\n",
    "    Parameter:\n",
    "        dataframe: pd.DataFrame object\n",
    "    Return:\n",
    "        dataframe: Changed pd.DataFrame object\n",
    "    \"\"\"\n",
    "    dataframe[\"year\"] = dataframe[\"month_id\"].astype(str).str[:4].astype(int)\n",
    "    dataframe[\"month\"] = dataframe[\"month_id\"].astype(str).str[4:].astype(int)\n",
    "    dataframe[\"settlement_period\"] = dataframe[\"settlement_period\"].str[-1].astype(int)\n",
    "    dataframe[\"working_type\"] = dataframe[\"working_type\"].str[-1].astype(int)\n",
    "    dataframe[\"mcc_id\"] = dataframe[\"mcc_id\"].str[4:].astype(int)\n",
    "    dataframe[\"merchant_segment\"] = dataframe[\"merchant_segment\"].str[-1].astype(int)\n",
    "    dataframe[\"merchant_source_name\"] = dataframe[\"merchant_source_name\"].str[-1].astype(int)\n",
    "    dataframe[\"merchant_id\"] = dataframe[\"merchant_id\"].str[9:].astype(int)\n",
    "    \n",
    "    dataframe = dataframe.drop(\"month_id\", axis = 1)\n",
    "    \n",
    "    dataframe = dataframe.sort_values(by = [\"year\", \"month\"], ascending = [True, True]).reset_index(drop=True)\n",
    "    \n",
    "    return dataframe"
   ]
  },
  {
   "cell_type": "code",
   "execution_count": 6,
   "id": "a3cce271",
   "metadata": {
    "execution": {
     "iopub.execute_input": "2024-05-08T11:16:08.786609Z",
     "iopub.status.busy": "2024-05-08T11:16:08.786347Z",
     "iopub.status.idle": "2024-05-08T11:16:08.791903Z",
     "shell.execute_reply": "2024-05-08T11:16:08.791152Z"
    },
    "papermill": {
     "duration": 0.037143,
     "end_time": "2024-05-08T11:16:08.793732",
     "exception": false,
     "start_time": "2024-05-08T11:16:08.756589",
     "status": "completed"
    },
    "tags": []
   },
   "outputs": [],
   "source": [
    "def draw_pie(dataframe:pd.DataFrame, columns_pie:list):\n",
    "    # Parameters:\n",
    "    # dataframe: Dataframe which will draw\n",
    "    # columns_pie: Columns which draw in pie graph\n",
    "\n",
    "    fig, ax = plt.subplots(1, len(columns_pie), figsize = (24, 12))\n",
    "\n",
    "    for i, column in enumerate(columns_pie):\n",
    "        value_counts_target = dataframe[column].value_counts()\n",
    "        ax[i].pie(value_counts_target.values, labels = value_counts_target.index, autopct='%1.1f%%', startangle = 140)\n",
    "        ax[i].set_title(f'{column.capitalize()} Pie Chart')\n",
    "\n",
    "    plt.show()"
   ]
  },
  {
   "cell_type": "code",
   "execution_count": 7,
   "id": "9cc43cd0",
   "metadata": {
    "execution": {
     "iopub.execute_input": "2024-05-08T11:16:08.891071Z",
     "iopub.status.busy": "2024-05-08T11:16:08.890737Z",
     "iopub.status.idle": "2024-05-08T11:16:08.896821Z",
     "shell.execute_reply": "2024-05-08T11:16:08.895994Z"
    },
    "papermill": {
     "duration": 0.03805,
     "end_time": "2024-05-08T11:16:08.898636",
     "exception": false,
     "start_time": "2024-05-08T11:16:08.860586",
     "status": "completed"
    },
    "tags": []
   },
   "outputs": [],
   "source": [
    "def conduct_kruskal_wallis_test(dataframe : pd.DataFrame, group_feature:str, target_feature:str):\n",
    "    \"\"\"\n",
    "        Parameters:\n",
    "            dataframe: pd.DataFrame object to conduct test\n",
    "            group_feature: the categorical feature we want to compare\n",
    "            target_feature: the feature we want to estimate\n",
    "    \"\"\"\n",
    "\n",
    "    # Perform Kruskal-Wallis test\n",
    "    kruskal_result = kruskal(*[df[target_feature][df[group_feature] == feature] for feature in df[group_feature].unique()])\n",
    "    # Display Kruskal-Wallis results\n",
    "    print(\"Kruskal-Wallis p-value:\", kruskal_result.pvalue)\n",
    "\n",
    "    if kruskal_result.pvalue < 0.05:\n",
    "        print(\"En azından bir grup farklı medyan değerine sahiptir\")\n",
    "    else:\n",
    "        print(\"Grupların medyanları birbirine eşittir.\")"
   ]
  },
  {
   "cell_type": "code",
   "execution_count": 8,
   "id": "6556b317",
   "metadata": {
    "execution": {
     "iopub.execute_input": "2024-05-08T11:16:08.958411Z",
     "iopub.status.busy": "2024-05-08T11:16:08.958127Z",
     "iopub.status.idle": "2024-05-08T11:16:08.965603Z",
     "shell.execute_reply": "2024-05-08T11:16:08.964753Z"
    },
    "papermill": {
     "duration": 0.039132,
     "end_time": "2024-05-08T11:16:08.967494",
     "exception": false,
     "start_time": "2024-05-08T11:16:08.928362",
     "status": "completed"
    },
    "tags": []
   },
   "outputs": [],
   "source": [
    "def plot_nemenyi_posthoc_test(dataframe:pd.DataFrame, group_feature:str, target_feature:str = \"net_payment_count\", is_mask: bool=True):\n",
    "    \n",
    "    \"\"\"\n",
    "        Parameters:\n",
    "            dataframe: pd.DataFrame object to conduct test\n",
    "            group_feature: the categorical feature we want to compare\n",
    "            target_feature: the feature we want to estimate\n",
    "    \"\"\"\n",
    "    \n",
    "    #Nemenyi post hoc test\n",
    "    nemenyi_result = posthoc_nemenyi(dataframe, val_col=target_feature, group_col= group_feature)\n",
    "\n",
    "    #Adjust p-values for multiple comparisons\n",
    "    p_values = nemenyi_result.values.flatten()\n",
    "    adjusted_p_values = multipletests(p_values, method=\"bonferroni\")[1].reshape(nemenyi_result.shape)\n",
    "\n",
    "    \n",
    "    plt.figure(figsize=(10, 6))\n",
    "    plt.title(\"Significant Differences between Groups (Nemenyi Test)\")\n",
    "    if is_mask:\n",
    "        #Set the significance level (e.g., 0.05)\n",
    "        alpha = 0.05\n",
    "        #Create a mask for significant differences\n",
    "        mask = adjusted_p_values < alpha\n",
    "        #Visualize the significant differences using a heatmap\n",
    "        sns.heatmap(nemenyi_result, annot=True, cmap=\"coolwarm\", fmt='.3f', cbar=False, mask = ~mask)\n",
    "        plt.show()\n",
    "    else:\n",
    "        #Visualize the significant differences using a heatmap\n",
    "        sns.heatmap(nemenyi_result, annot=True, cmap=\"coolwarm\", fmt='.3f', cbar=False)\n",
    "        plt.show()"
   ]
  },
  {
   "cell_type": "code",
   "execution_count": 9,
   "id": "76ba0ade",
   "metadata": {
    "execution": {
     "iopub.execute_input": "2024-05-08T11:16:09.027859Z",
     "iopub.status.busy": "2024-05-08T11:16:09.027601Z",
     "iopub.status.idle": "2024-05-08T11:16:09.032194Z",
     "shell.execute_reply": "2024-05-08T11:16:09.031403Z"
    },
    "papermill": {
     "duration": 0.037545,
     "end_time": "2024-05-08T11:16:09.033999",
     "exception": false,
     "start_time": "2024-05-08T11:16:08.996454",
     "status": "completed"
    },
    "tags": []
   },
   "outputs": [],
   "source": [
    "def count_of_holidays(row, holidays):\n",
    "    \"\"\"\n",
    "    Parameters:\n",
    "        row: row of dataframe\n",
    "        holidays: holidays object which will be used\n",
    "    Return:\n",
    "        number of holidays between dates\n",
    "    \"\"\"\n",
    "    \n",
    "    date_ranges = pd.date_range(start = row[\"first_day_month\"], end = row[\"last_day_month\"], freq = \"D\")\n",
    "    return sum([date in holidays for date in date_ranges])"
   ]
  },
  {
   "cell_type": "code",
   "execution_count": 10,
   "id": "34a607ac",
   "metadata": {
    "execution": {
     "iopub.execute_input": "2024-05-08T11:16:09.093022Z",
     "iopub.status.busy": "2024-05-08T11:16:09.092758Z",
     "iopub.status.idle": "2024-05-08T11:16:09.099661Z",
     "shell.execute_reply": "2024-05-08T11:16:09.098826Z"
    },
    "papermill": {
     "duration": 0.038522,
     "end_time": "2024-05-08T11:16:09.101553",
     "exception": false,
     "start_time": "2024-05-08T11:16:09.063031",
     "status": "completed"
    },
    "tags": []
   },
   "outputs": [],
   "source": [
    "def add_count_of_holidays(dataframe:pd.DataFrame, country: str = \"TR\") -> pd.DataFrame:\n",
    "    \"\"\"\n",
    "    Parameters:\n",
    "        dataframe: Dataframe which will be used\n",
    "        country: Abbreviation of country for holiday module\n",
    "    Return:\n",
    "        dataframe: Changed Dataframe \n",
    "    \"\"\"\n",
    "    \n",
    "    \n",
    "    #Create holidays for country which is given\n",
    "    holidays_TR =  holidays.country_holidays(country)\n",
    "    #Add columns to determine first day of months \n",
    "    dataframe[\"first_day_month\"] = pd.to_datetime(dataframe[\"year\"].astype(str) + \"-\" + dataframe[\"month\"].astype(str) , format = \"%Y-%m\")\n",
    "    #Add columns to determine last day of months \n",
    "    dataframe[\"last_day_month\"] = pd.to_datetime(dataframe[\"year\"].astype(str) + \"-\" + dataframe[\"month\"].astype(str) , format = \"%Y-%m\") + pd.offsets.MonthEnd(0)\n",
    "    \n",
    "    #Add count of holidays using function called count_of_holidays \n",
    "    dataframe[\"count_of_holidays\"] = dataframe.apply(lambda x: count_of_holidays(x, holidays_TR), axis = 1)\n",
    "    \n",
    "    #Delete first_day_month and last_day_month columns\n",
    "    dataframe.drop([\"first_day_month\", \"last_day_month\"], axis = 1, inplace= True)\n",
    "    \n",
    "    return dataframe\n",
    "    "
   ]
  },
  {
   "cell_type": "code",
   "execution_count": 11,
   "id": "0109d0e7",
   "metadata": {
    "execution": {
     "iopub.execute_input": "2024-05-08T11:16:09.160374Z",
     "iopub.status.busy": "2024-05-08T11:16:09.159884Z",
     "iopub.status.idle": "2024-05-08T11:16:09.166019Z",
     "shell.execute_reply": "2024-05-08T11:16:09.165191Z"
    },
    "papermill": {
     "duration": 0.037457,
     "end_time": "2024-05-08T11:16:09.167847",
     "exception": false,
     "start_time": "2024-05-08T11:16:09.130390",
     "status": "completed"
    },
    "tags": []
   },
   "outputs": [],
   "source": [
    "def add_count_ofbreak_oniyzico(train_df: pd.DataFrame, submission_df:pd.DataFrame):\n",
    "    \"\"\"\n",
    "    Parameters:\n",
    "        train_df : Train dataframe\n",
    "        submissiob_df: Submission DataFrame\n",
    "    \n",
    "    Returns:\n",
    "        df_train: Train dataframe after change\n",
    "        df_submission: Submission dataframe after change\n",
    "    \n",
    "    \"\"\"\n",
    "    \n",
    "    df_ = pd.concat([train_df,submission_df], axis = 0).copy()\n",
    "    df_[\"month_after_starting\"] = (df_[\"year\"] - 2020) * 12 + df_[\"month\"]\n",
    "    df_[\"count_ofbreak_oniyzico\"] = df_.groupby(\"merchant_id\")[\"month_after_starting\"].diff().fillna(1) - 1\n",
    "    \n",
    "    df_ = df_.drop(\"month_after_starting\", axis = 1)\n",
    "    \n",
    "    df_train = df_[df_[\"type_dataframe\"] == \"train\"].copy()\n",
    "    df_submission = df_[df_[\"type_dataframe\"] == \"submission\"].copy()\n",
    "    \n",
    "    return df_train, df_submission"
   ]
  },
  {
   "cell_type": "code",
   "execution_count": 12,
   "id": "8e8c73ed",
   "metadata": {
    "execution": {
     "iopub.execute_input": "2024-05-08T11:16:09.227379Z",
     "iopub.status.busy": "2024-05-08T11:16:09.227109Z",
     "iopub.status.idle": "2024-05-08T11:16:09.232548Z",
     "shell.execute_reply": "2024-05-08T11:16:09.231748Z"
    },
    "papermill": {
     "duration": 0.037608,
     "end_time": "2024-05-08T11:16:09.234385",
     "exception": false,
     "start_time": "2024-05-08T11:16:09.196777",
     "status": "completed"
    },
    "tags": []
   },
   "outputs": [],
   "source": [
    "def add_cumsum_merchant_id(train_df: pd.DataFrame, submission_df:pd.DataFrame):\n",
    "    \"\"\"\n",
    "    Parameters:\n",
    "        train_df : Train dataframe\n",
    "        submissiob_df: Submission DataFrame\n",
    "    \n",
    "    Returns:\n",
    "        df_train: Train dataframe after change\n",
    "        df_submission: Submission dataframe after change\n",
    "    \n",
    "    \"\"\"\n",
    "    \n",
    "    df_ = pd.concat([train_df,submission_df], axis = 0)\n",
    "    df_[\"count_merchant_id\"] = 1\n",
    "    df_[\"count_merchant_id\"] = df_.groupby('merchant_id')[\"count_merchant_id\"].cumsum()\n",
    "    \n",
    "    df_train = df_[df_[\"type_dataframe\"] == \"train\"].copy()\n",
    "    df_submission = df_[df_[\"type_dataframe\"] == \"submission\"].copy()\n",
    "    \n",
    "    return df_train, df_submission"
   ]
  },
  {
   "cell_type": "code",
   "execution_count": 13,
   "id": "bcc5c065",
   "metadata": {
    "execution": {
     "iopub.execute_input": "2024-05-08T11:16:09.295175Z",
     "iopub.status.busy": "2024-05-08T11:16:09.294900Z",
     "iopub.status.idle": "2024-05-08T11:16:09.301042Z",
     "shell.execute_reply": "2024-05-08T11:16:09.300247Z"
    },
    "papermill": {
     "duration": 0.039265,
     "end_time": "2024-05-08T11:16:09.302881",
     "exception": false,
     "start_time": "2024-05-08T11:16:09.263616",
     "status": "completed"
    },
    "tags": []
   },
   "outputs": [],
   "source": [
    "def add_is_once_insysyem(train_df:pd.DataFrame, submission_df:pd.DataFrame):\n",
    "    \"\"\"\n",
    "    Parameters:\n",
    "        train_df : Train dataframe\n",
    "        submissiob_df: Submission DataFrame\n",
    "    \n",
    "    Returns:\n",
    "        df_train: Train dataframe after change\n",
    "        df_submission: Submission dataframe after change\n",
    "    \n",
    "    \"\"\"\n",
    "    df_ = pd.concat([train_df, submission_df], axis = 0)\n",
    "    \n",
    "    #Get multiple visible id values\n",
    "    non_colds = df_[\"merchant_id\"].value_counts().reset_index()\n",
    "    non_colds = non_colds[non_colds['count'] == 1]\n",
    "    non_colds = non_colds[\"merchant_id\"].unique()\n",
    "    \n",
    "    df_[\"is_once_insystem\"] = df_[\"merchant_id\"].isin(non_colds).astype(int)\n",
    "    \n",
    "    df_train = df_[df_[\"type_dataframe\"] == \"train\"].copy()\n",
    "    df_submission = df_[df_[\"type_dataframe\"] == \"submission\"].copy()\n",
    "    \n",
    "    return df_train, df_submission"
   ]
  },
  {
   "cell_type": "code",
   "execution_count": 14,
   "id": "903e338c",
   "metadata": {
    "execution": {
     "iopub.execute_input": "2024-05-08T11:16:09.362963Z",
     "iopub.status.busy": "2024-05-08T11:16:09.362406Z",
     "iopub.status.idle": "2024-05-08T11:16:09.369433Z",
     "shell.execute_reply": "2024-05-08T11:16:09.368615Z"
    },
    "papermill": {
     "duration": 0.039623,
     "end_time": "2024-05-08T11:16:09.371326",
     "exception": false,
     "start_time": "2024-05-08T11:16:09.331703",
     "status": "completed"
    },
    "tags": []
   },
   "outputs": [],
   "source": [
    " def add_monthly_values(train_df: pd.DataFrame, submission_df:pd.DataFrame, feature: str, dictionary: dict):\n",
    "        month_values = np.arange(1,13).tolist()\n",
    "        year_values = np.arange(2020, 2024).tolist()\n",
    "        combinations_train = list(itertools.product(year_values, month_values))[:-3]\n",
    "        combinations_submission = list(itertools.product(year_values, month_values))[:-3]\n",
    "        for year, month in combinations_train:\n",
    "            train_df.loc[(train_df[\"year\"] == year) & (train_df[\"month\"] == month), feature] = dictionary[year][month-1]\n",
    "        \n",
    "        for year, month in combinations_submission:\n",
    "            submission_df.loc[(submission_df[\"year\"] == year) & (submission_df[\"month\"] == month), feature] = dictionary[year][month-1]\n",
    "    \n",
    "        return train_df, submission_df"
   ]
  },
  {
   "cell_type": "markdown",
   "id": "febb248f",
   "metadata": {
    "papermill": {
     "duration": 0.029558,
     "end_time": "2024-05-08T11:16:09.430092",
     "exception": false,
     "start_time": "2024-05-08T11:16:09.400534",
     "status": "completed"
    },
    "tags": []
   },
   "source": [
    "# Import Library and Basic EDA"
   ]
  },
  {
   "cell_type": "code",
   "execution_count": 15,
   "id": "96996a31",
   "metadata": {
    "execution": {
     "iopub.execute_input": "2024-05-08T11:16:09.491322Z",
     "iopub.status.busy": "2024-05-08T11:16:09.491004Z",
     "iopub.status.idle": "2024-05-08T11:16:11.851541Z",
     "shell.execute_reply": "2024-05-08T11:16:11.850259Z"
    },
    "papermill": {
     "duration": 2.393576,
     "end_time": "2024-05-08T11:16:11.853581",
     "exception": false,
     "start_time": "2024-05-08T11:16:09.460005",
     "status": "completed"
    },
    "tags": []
   },
   "outputs": [
    {
     "name": "stdout",
     "output_type": "stream",
     "text": [
      "CPU times: user 1.99 s, sys: 171 ms, total: 2.16 s\n",
      "Wall time: 2.36 s\n"
     ]
    }
   ],
   "source": [
    "%%time\n",
    "#Import train dataframe\n",
    "df = pd.read_csv(config.dir_train)\n",
    "df = preprocess(df)"
   ]
  },
  {
   "cell_type": "code",
   "execution_count": 16,
   "id": "71a99de4",
   "metadata": {
    "execution": {
     "iopub.execute_input": "2024-05-08T11:16:11.918968Z",
     "iopub.status.busy": "2024-05-08T11:16:11.918195Z",
     "iopub.status.idle": "2024-05-08T11:16:12.089384Z",
     "shell.execute_reply": "2024-05-08T11:16:12.088465Z"
    },
    "papermill": {
     "duration": 0.206151,
     "end_time": "2024-05-08T11:16:12.091511",
     "exception": false,
     "start_time": "2024-05-08T11:16:11.885360",
     "status": "completed"
    },
    "tags": []
   },
   "outputs": [
    {
     "name": "stdout",
     "output_type": "stream",
     "text": [
      "CPU times: user 142 ms, sys: 8.94 ms, total: 151 ms\n",
      "Wall time: 165 ms\n"
     ]
    }
   ],
   "source": [
    "%%time\n",
    "#Import submission dataframe and add basic features from id feature\n",
    "df_sub = pd.read_csv(config.dir_sub)\n",
    "df_sub[\"year\"] = df_sub[\"id\"].str[:4].astype(int)\n",
    "df_sub[\"month\"] = df_sub[\"id\"].str[4:6].astype(int)\n",
    "df_sub[\"id\"] = df_sub[\"id\"].str[15:].astype(int)"
   ]
  },
  {
   "cell_type": "markdown",
   "id": "84a51171",
   "metadata": {
    "papermill": {
     "duration": 0.02927,
     "end_time": "2024-05-08T11:16:12.150661",
     "exception": false,
     "start_time": "2024-05-08T11:16:12.121391",
     "status": "completed"
    },
    "tags": []
   },
   "source": [
    "- Submission için bir dataframe oluşturdum ve id özelliğini kullanarak, yıl ve ay bilgilerini sisteme ekledim.\n",
    "- **merchant_source_name, settlement_period, working_type, mcc_id, merchant_segment** özellikleri kuruluşlara İyzico ödeme sistemine girdikleri anda verilen verilerdir. Dolayısıyla Submission dosyasında yer alan id değerleri, train dosyasında yer alıyorsa geri kalan(merchant_source_name, settlement_period, working_type, mcc_id, merchant_segment) özelliklerini train dosyasından çekerek submission dosyasına ekleyeceğim."
   ]
  },
  {
   "cell_type": "code",
   "execution_count": 17,
   "id": "c6914d64",
   "metadata": {
    "execution": {
     "iopub.execute_input": "2024-05-08T11:16:12.210258Z",
     "iopub.status.busy": "2024-05-08T11:16:12.209957Z",
     "iopub.status.idle": "2024-05-08T11:16:12.214987Z",
     "shell.execute_reply": "2024-05-08T11:16:12.214218Z"
    },
    "papermill": {
     "duration": 0.037343,
     "end_time": "2024-05-08T11:16:12.217029",
     "exception": false,
     "start_time": "2024-05-08T11:16:12.179686",
     "status": "completed"
    },
    "tags": []
   },
   "outputs": [
    {
     "name": "stdout",
     "output_type": "stream",
     "text": [
      "CPU times: user 3 µs, sys: 0 ns, total: 3 µs\n",
      "Wall time: 6.2 µs\n"
     ]
    }
   ],
   "source": [
    "%%time\n",
    "# Check of id values in the submission file but not in the train file\n",
    "# len([a for a in df_sub[\"id\"].unique() if not a in df[\"merchant_id\"].unique()]) = 0"
   ]
  },
  {
   "cell_type": "markdown",
   "id": "6ac986d3",
   "metadata": {
    "papermill": {
     "duration": 0.029201,
     "end_time": "2024-05-08T11:16:12.275760",
     "exception": false,
     "start_time": "2024-05-08T11:16:12.246559",
     "status": "completed"
    },
    "tags": []
   },
   "source": [
    "Submission dosyasında yer alıpta  train dosyasında yer almayan hiçbir id değeri yoktur. Böylece **merchant_source_name, settlement_period, working_type, mcc_id, merchant_segment** özelliklerini submission dosyasına çekebiliriz."
   ]
  },
  {
   "cell_type": "code",
   "execution_count": 18,
   "id": "bd911adc",
   "metadata": {
    "execution": {
     "iopub.execute_input": "2024-05-08T11:16:12.336121Z",
     "iopub.status.busy": "2024-05-08T11:16:12.335832Z",
     "iopub.status.idle": "2024-05-08T11:16:12.609008Z",
     "shell.execute_reply": "2024-05-08T11:16:12.608214Z"
    },
    "papermill": {
     "duration": 0.305963,
     "end_time": "2024-05-08T11:16:12.611338",
     "exception": false,
     "start_time": "2024-05-08T11:16:12.305375",
     "status": "completed"
    },
    "tags": []
   },
   "outputs": [],
   "source": [
    "#Transfer \"merchant_source_name\", \"settlement_period\", \"working_type\", \"mcc_id\", \"merchant_segment\" properties to submisison dataframe\n",
    "features_merged = [\"merchant_source_name\", \"settlement_period\", \"working_type\", \"mcc_id\", \"merchant_segment\"]\n",
    "df_sub = pd.merge(df[[\"merchant_id\"] + features_merged], df_sub, left_on = [\"merchant_id\"], right_on = [\"id\"], how = \"right\").drop_duplicates().reset_index(drop=True).drop(\"id\", axis = 1)"
   ]
  },
  {
   "cell_type": "code",
   "execution_count": 19,
   "id": "4d6d7745",
   "metadata": {
    "execution": {
     "iopub.execute_input": "2024-05-08T11:16:12.673396Z",
     "iopub.status.busy": "2024-05-08T11:16:12.673055Z",
     "iopub.status.idle": "2024-05-08T11:16:12.694078Z",
     "shell.execute_reply": "2024-05-08T11:16:12.692915Z"
    },
    "papermill": {
     "duration": 0.053536,
     "end_time": "2024-05-08T11:16:12.696053",
     "exception": false,
     "start_time": "2024-05-08T11:16:12.642517",
     "status": "completed"
    },
    "tags": []
   },
   "outputs": [
    {
     "name": "stdout",
     "output_type": "stream",
     "text": [
      "<class 'pandas.core.frame.DataFrame'>\n",
      "RangeIndex: 291142 entries, 0 to 291141\n",
      "Data columns (total 9 columns):\n",
      " #   Column                Non-Null Count   Dtype\n",
      "---  ------                --------------   -----\n",
      " 0   merchant_id           291142 non-null  int64\n",
      " 1   merchant_source_name  291142 non-null  int64\n",
      " 2   settlement_period     291142 non-null  int64\n",
      " 3   working_type          291142 non-null  int64\n",
      " 4   mcc_id                291142 non-null  int64\n",
      " 5   merchant_segment      291142 non-null  int64\n",
      " 6   net_payment_count     291142 non-null  int64\n",
      " 7   year                  291142 non-null  int64\n",
      " 8   month                 291142 non-null  int64\n",
      "dtypes: int64(9)\n",
      "memory usage: 20.0 MB\n"
     ]
    }
   ],
   "source": [
    "df.info()"
   ]
  },
  {
   "cell_type": "markdown",
   "id": "dcc8d258",
   "metadata": {
    "papermill": {
     "duration": 0.02975,
     "end_time": "2024-05-08T11:16:12.755152",
     "exception": false,
     "start_time": "2024-05-08T11:16:12.725402",
     "status": "completed"
    },
    "tags": []
   },
   "source": [
    "Train verilerimizde NaN değerler bulunmamaktadır. Bu istenen bir özelliktir."
   ]
  },
  {
   "cell_type": "code",
   "execution_count": 20,
   "id": "363659f1",
   "metadata": {
    "execution": {
     "iopub.execute_input": "2024-05-08T11:16:12.815104Z",
     "iopub.status.busy": "2024-05-08T11:16:12.814813Z",
     "iopub.status.idle": "2024-05-08T11:16:12.906315Z",
     "shell.execute_reply": "2024-05-08T11:16:12.905315Z"
    },
    "papermill": {
     "duration": 0.123589,
     "end_time": "2024-05-08T11:16:12.908294",
     "exception": false,
     "start_time": "2024-05-08T11:16:12.784705",
     "status": "completed"
    },
    "tags": []
   },
   "outputs": [
    {
     "data": {
      "text/html": [
       "<div>\n",
       "<style scoped>\n",
       "    .dataframe tbody tr th:only-of-type {\n",
       "        vertical-align: middle;\n",
       "    }\n",
       "\n",
       "    .dataframe tbody tr th {\n",
       "        vertical-align: top;\n",
       "    }\n",
       "\n",
       "    .dataframe thead th {\n",
       "        text-align: right;\n",
       "    }\n",
       "</style>\n",
       "<table border=\"1\" class=\"dataframe\">\n",
       "  <thead>\n",
       "    <tr style=\"text-align: right;\">\n",
       "      <th></th>\n",
       "      <th>count</th>\n",
       "      <th>mean</th>\n",
       "      <th>std</th>\n",
       "      <th>min</th>\n",
       "      <th>25%</th>\n",
       "      <th>50%</th>\n",
       "      <th>75%</th>\n",
       "      <th>max</th>\n",
       "    </tr>\n",
       "  </thead>\n",
       "  <tbody>\n",
       "    <tr>\n",
       "      <th>merchant_id</th>\n",
       "      <td>291142.0</td>\n",
       "      <td>33969.544095</td>\n",
       "      <td>19575.793939</td>\n",
       "      <td>1.0</td>\n",
       "      <td>16916.0</td>\n",
       "      <td>34152.0</td>\n",
       "      <td>50911.5</td>\n",
       "      <td>67816.0</td>\n",
       "    </tr>\n",
       "    <tr>\n",
       "      <th>merchant_source_name</th>\n",
       "      <td>291142.0</td>\n",
       "      <td>1.480010</td>\n",
       "      <td>0.585714</td>\n",
       "      <td>1.0</td>\n",
       "      <td>1.0</td>\n",
       "      <td>1.0</td>\n",
       "      <td>2.0</td>\n",
       "      <td>3.0</td>\n",
       "    </tr>\n",
       "    <tr>\n",
       "      <th>settlement_period</th>\n",
       "      <td>291142.0</td>\n",
       "      <td>1.146970</td>\n",
       "      <td>0.516294</td>\n",
       "      <td>1.0</td>\n",
       "      <td>1.0</td>\n",
       "      <td>1.0</td>\n",
       "      <td>1.0</td>\n",
       "      <td>3.0</td>\n",
       "    </tr>\n",
       "    <tr>\n",
       "      <th>working_type</th>\n",
       "      <td>291142.0</td>\n",
       "      <td>4.991836</td>\n",
       "      <td>1.325434</td>\n",
       "      <td>1.0</td>\n",
       "      <td>5.0</td>\n",
       "      <td>5.0</td>\n",
       "      <td>6.0</td>\n",
       "      <td>6.0</td>\n",
       "    </tr>\n",
       "    <tr>\n",
       "      <th>mcc_id</th>\n",
       "      <td>291142.0</td>\n",
       "      <td>82.611317</td>\n",
       "      <td>51.638031</td>\n",
       "      <td>1.0</td>\n",
       "      <td>40.0</td>\n",
       "      <td>74.0</td>\n",
       "      <td>130.0</td>\n",
       "      <td>197.0</td>\n",
       "    </tr>\n",
       "    <tr>\n",
       "      <th>merchant_segment</th>\n",
       "      <td>291142.0</td>\n",
       "      <td>3.936244</td>\n",
       "      <td>0.338221</td>\n",
       "      <td>1.0</td>\n",
       "      <td>4.0</td>\n",
       "      <td>4.0</td>\n",
       "      <td>4.0</td>\n",
       "      <td>4.0</td>\n",
       "    </tr>\n",
       "    <tr>\n",
       "      <th>net_payment_count</th>\n",
       "      <td>291142.0</td>\n",
       "      <td>415.384201</td>\n",
       "      <td>10820.674338</td>\n",
       "      <td>-1433.0</td>\n",
       "      <td>4.0</td>\n",
       "      <td>6.0</td>\n",
       "      <td>14.0</td>\n",
       "      <td>1160429.0</td>\n",
       "    </tr>\n",
       "    <tr>\n",
       "      <th>year</th>\n",
       "      <td>291142.0</td>\n",
       "      <td>2021.533750</td>\n",
       "      <td>1.048089</td>\n",
       "      <td>2020.0</td>\n",
       "      <td>2021.0</td>\n",
       "      <td>2022.0</td>\n",
       "      <td>2022.0</td>\n",
       "      <td>2023.0</td>\n",
       "    </tr>\n",
       "    <tr>\n",
       "      <th>month</th>\n",
       "      <td>291142.0</td>\n",
       "      <td>6.305875</td>\n",
       "      <td>3.355080</td>\n",
       "      <td>1.0</td>\n",
       "      <td>3.0</td>\n",
       "      <td>6.0</td>\n",
       "      <td>9.0</td>\n",
       "      <td>12.0</td>\n",
       "    </tr>\n",
       "  </tbody>\n",
       "</table>\n",
       "</div>"
      ],
      "text/plain": [
       "                         count          mean           std     min      25%  \\\n",
       "merchant_id           291142.0  33969.544095  19575.793939     1.0  16916.0   \n",
       "merchant_source_name  291142.0      1.480010      0.585714     1.0      1.0   \n",
       "settlement_period     291142.0      1.146970      0.516294     1.0      1.0   \n",
       "working_type          291142.0      4.991836      1.325434     1.0      5.0   \n",
       "mcc_id                291142.0     82.611317     51.638031     1.0     40.0   \n",
       "merchant_segment      291142.0      3.936244      0.338221     1.0      4.0   \n",
       "net_payment_count     291142.0    415.384201  10820.674338 -1433.0      4.0   \n",
       "year                  291142.0   2021.533750      1.048089  2020.0   2021.0   \n",
       "month                 291142.0      6.305875      3.355080     1.0      3.0   \n",
       "\n",
       "                          50%      75%        max  \n",
       "merchant_id           34152.0  50911.5    67816.0  \n",
       "merchant_source_name      1.0      2.0        3.0  \n",
       "settlement_period         1.0      1.0        3.0  \n",
       "working_type              5.0      6.0        6.0  \n",
       "mcc_id                   74.0    130.0      197.0  \n",
       "merchant_segment          4.0      4.0        4.0  \n",
       "net_payment_count         6.0     14.0  1160429.0  \n",
       "year                   2022.0   2022.0     2023.0  \n",
       "month                     6.0      9.0       12.0  "
      ]
     },
     "execution_count": 20,
     "metadata": {},
     "output_type": "execute_result"
    }
   ],
   "source": [
    "df.describe().T"
   ]
  },
  {
   "cell_type": "markdown",
   "id": "a70ba980",
   "metadata": {
    "papermill": {
     "duration": 0.029897,
     "end_time": "2024-05-08T11:16:12.968846",
     "exception": false,
     "start_time": "2024-05-08T11:16:12.938949",
     "status": "completed"
    },
    "tags": []
   },
   "source": [
    "- Sistemimizde **net_payment_count** sütunu hariç diğer sütunlar kategorik sütunlardır.\n",
    "    - merchant_source_name, settlement_period sütunları 1, 2 ve 3 değerlerini almıştır.\n",
    "    - working_type sütunu 1'den 6'ya kadar (6 dahil) değerleri almıştır.\n",
    "    - mcc_id sütunu 1'den 197'e kadar  değerleri almıştır.\n",
    "    - merchant_segment sütunu 1'den 4'e kadar değerleri almıştır.\n",
    "    - year sütunu 2020'den başlayarak 2023'e kadar yıl değerlerini almıştır.\n",
    "    - month sütunu 1'den başlayarak 12'ye kadar ay değerlerini almıştır.\n",
    "- **net_payment_count** sütununun minimum değeri ile maksimum değeri, %25, %50 ve %75'lik dilimlerden oldukça uzaktır. Bu durum standart sapmaya da yansımış ve oldukça büyük çıkmıştır. Standart sapmanın bu kadar büyük çıkması değişkenliğin oldukça etkili olduğunu göstermektedir"
   ]
  },
  {
   "cell_type": "code",
   "execution_count": 21,
   "id": "d0ee282c",
   "metadata": {
    "execution": {
     "iopub.execute_input": "2024-05-08T11:16:13.031245Z",
     "iopub.status.busy": "2024-05-08T11:16:13.030940Z",
     "iopub.status.idle": "2024-05-08T11:16:13.040959Z",
     "shell.execute_reply": "2024-05-08T11:16:13.039889Z"
    },
    "papermill": {
     "duration": 0.044375,
     "end_time": "2024-05-08T11:16:13.043060",
     "exception": false,
     "start_time": "2024-05-08T11:16:12.998685",
     "status": "completed"
    },
    "tags": []
   },
   "outputs": [
    {
     "name": "stdout",
     "output_type": "stream",
     "text": [
      "<class 'pandas.core.frame.DataFrame'>\n",
      "RangeIndex: 78180 entries, 0 to 78179\n",
      "Data columns (total 9 columns):\n",
      " #   Column                Non-Null Count  Dtype\n",
      "---  ------                --------------  -----\n",
      " 0   merchant_id           78180 non-null  int64\n",
      " 1   merchant_source_name  78180 non-null  int64\n",
      " 2   settlement_period     78180 non-null  int64\n",
      " 3   working_type          78180 non-null  int64\n",
      " 4   mcc_id                78180 non-null  int64\n",
      " 5   merchant_segment      78180 non-null  int64\n",
      " 6   net_payment_count     78180 non-null  int64\n",
      " 7   year                  78180 non-null  int64\n",
      " 8   month                 78180 non-null  int64\n",
      "dtypes: int64(9)\n",
      "memory usage: 5.4 MB\n"
     ]
    }
   ],
   "source": [
    "df_sub.info()"
   ]
  },
  {
   "cell_type": "markdown",
   "id": "26460489",
   "metadata": {
    "papermill": {
     "duration": 0.029572,
     "end_time": "2024-05-08T11:16:13.104797",
     "exception": false,
     "start_time": "2024-05-08T11:16:13.075225",
     "status": "completed"
    },
    "tags": []
   },
   "source": [
    "Submission verisetinde NaN değerler bulunmamaktadır."
   ]
  },
  {
   "cell_type": "code",
   "execution_count": 22,
   "id": "18e6fcc0",
   "metadata": {
    "execution": {
     "iopub.execute_input": "2024-05-08T11:16:13.167704Z",
     "iopub.status.busy": "2024-05-08T11:16:13.167142Z",
     "iopub.status.idle": "2024-05-08T11:16:13.694780Z",
     "shell.execute_reply": "2024-05-08T11:16:13.693836Z"
    },
    "papermill": {
     "duration": 0.561922,
     "end_time": "2024-05-08T11:16:13.696962",
     "exception": false,
     "start_time": "2024-05-08T11:16:13.135040",
     "status": "completed"
    },
    "tags": []
   },
   "outputs": [
    {
     "data": {
      "image/png": "[encoded data removed]",
      "text/plain": [
       "<Figure size 2400x1200 with 4 Axes>"
      ]
     },
     "metadata": {},
     "output_type": "display_data"
    }
   ],
   "source": [
    "columns_pie = [\"merchant_source_name\", \"settlement_period\", \"working_type\", \"merchant_segment\"]\n",
    "draw_pie(df, columns_pie)"
   ]
  },
  {
   "cell_type": "markdown",
   "id": "6baba3b5",
   "metadata": {
    "papermill": {
     "duration": 0.031485,
     "end_time": "2024-05-08T11:16:13.760893",
     "exception": false,
     "start_time": "2024-05-08T11:16:13.729408",
     "status": "completed"
    },
    "tags": []
   },
   "source": [
    "- İş yerleri genellikle 1 ve 2. kaynaktan sisteme katılmış olup 3. kaynağı çok tercih etmemişlerdir. (merchant_source_name)\n",
    "- İş yerlerinin hak ediş sıklığı büyük çoğunlukla 1 iken geri kalan kısmın çoğu 3 adet sıklığa aittir. 2 adet sıklık nedense çok az görülmüştür.(settlement_period)\n",
    "- İş yerleri büyük oranda 5 ve 6. tiplere aitken 2 numaralı tipte belirli bir yüzdeye sahiptir. Ancak 1, 3 ve 4. iş yeri tipi neredeyse görülmemektedir.(working_type)\n",
    "- İş yerleri iyzico içerisinde çok büyük oranda 4. segmente ait iken 1, 2 ve 3. numaralı segmentlere oldukça az rastlanılmıştır.(merchant_segment)"
   ]
  },
  {
   "cell_type": "code",
   "execution_count": 23,
   "id": "61df4cbb",
   "metadata": {
    "execution": {
     "iopub.execute_input": "2024-05-08T11:16:13.823823Z",
     "iopub.status.busy": "2024-05-08T11:16:13.823506Z",
     "iopub.status.idle": "2024-05-08T11:16:13.840426Z",
     "shell.execute_reply": "2024-05-08T11:16:13.839680Z"
    },
    "papermill": {
     "duration": 0.050752,
     "end_time": "2024-05-08T11:16:13.842532",
     "exception": false,
     "start_time": "2024-05-08T11:16:13.791780",
     "status": "completed"
    },
    "tags": []
   },
   "outputs": [],
   "source": [
    "df[\"type_dataframe\"] = \"train\"\n",
    "df_sub[\"type_dataframe\"] = \"submission\"\n",
    "\n",
    "df_sub = df_sub.sort_values(by = [\"year\", \"month\"], ascending = [True, True]).reset_index(drop=True)"
   ]
  },
  {
   "cell_type": "markdown",
   "id": "76333c18",
   "metadata": {
    "papermill": {
     "duration": 0.03063,
     "end_time": "2024-05-08T11:16:13.904385",
     "exception": false,
     "start_time": "2024-05-08T11:16:13.873755",
     "status": "completed"
    },
    "tags": []
   },
   "source": [
    "# EDA"
   ]
  },
  {
   "cell_type": "markdown",
   "id": "b5fac3e4",
   "metadata": {
    "papermill": {
     "duration": 0.030691,
     "end_time": "2024-05-08T11:16:13.965823",
     "exception": false,
     "start_time": "2024-05-08T11:16:13.935132",
     "status": "completed"
    },
    "tags": []
   },
   "source": [
    "Bizim sistemimizdeki özelliklerin hepsi kategoriktir. Bizde kategoriler arasında **net_payment_count** özelliği için bir fark olup olmadığını anlamak istiyoruz. Bunun için birkaç istatistiki yöntem bulunmaktadır. Biliyoruz ki **net_payment_count özelliği normal dağılıma sahip değildir**. Dolayısıyla normal dağılımı varsayan testleri eleyeceğiz. Biz **Kruskal-Wallis test** yöntemini uygulayacağız.\n",
    "\n",
    "Bu yöntem;\n",
    "- **Parametrik olmayan bir bir yöntemdir ve farklı grupların medyanları arasında istatistiksel olarak anlamlı farklılıklar olup olmadığını belirlemek için kullanılır.**\n",
    "\n",
    "\n",
    "                                                        Null Hypothesis (H0): Grupların medyanları birbirine eşittir.\n",
    "\n",
    "                                                        Alternative Hypothesis (H1): En azından bir grup farklı medyan değerine sahiptir.\n",
    "\n",
    "P-değerinin yorumlanması:\n",
    "\n",
    "- p-değeri < 0,05: Sıfır hipotezini reddedersiniz. Bu, en az bir grubun farklı bir medyana sahip olduğu sonucuna varmak için kanıt olduğunu gösterir.\n",
    "\n",
    "- p-değeri >= 0,05: Sıfır hipotezini reddedemezsiniz. Bu, gruplar arasında ortanca farklılıkları olduğu sonucuna varmak için yeterli kanıt olmadığını gösterir."
   ]
  },
  {
   "cell_type": "markdown",
   "id": "8303eca1",
   "metadata": {
    "papermill": {
     "duration": 0.032167,
     "end_time": "2024-05-08T11:16:14.028856",
     "exception": false,
     "start_time": "2024-05-08T11:16:13.996689",
     "status": "completed"
    },
    "tags": []
   },
   "source": [
    "**Kruskal-Wallis testi**, iki veya daha fazla grubun medyanlarını karşılaştırmak için kullanılan istatistiksel testtir. Gruplar arasında anlamlı farklılıklar olup olmadığını belirlemek için kullanılır. Testin anlamlı olması, grupların ortalamaları arasında bir fark olduğunu gösterir, ancak hangi grupların birbirinden önemli ölçüde farklı olduğunu söylemez.\n",
    "\n",
    "\n",
    "\n",
    "İşte bu noktada **Nemenyi testi** devreye girer. Hangi grup çiftlerinin birbirinden önemli ölçüde farklı olduğunu belirlemek için kullanılan bir çoklu karşılaştırma testidir. \"Kritik fark grafiği\" adı verilen ve her bir grup çiftinin ortalamaları arasındaki farkı bir \"kritik fark\" çizgisiyle birlikte gösteren bir grafik oluşturur. Bir grup çiftinin ortalamaları arasındaki fark kritik farktan büyükse, grupların önemli ölçüde farklı olduğu kabul edilir.\n",
    "\n",
    "\n",
    "\n",
    "Genel olarak, **Nemenyi testi**, ilk **Kruskal-Wallis testi** yapıldıktan sonra hangi grupların birbirinden önemli ölçüde farklı olduğunu belirlemek için yararlı bir araçtır. İstatistiksel analizinizin sonuçlarını anlamanıza ve verilerinizden anlamlı sonuçlar çıkarmanıza yardımcı olabilir."
   ]
  },
  {
   "cell_type": "markdown",
   "id": "2713a1bd",
   "metadata": {
    "papermill": {
     "duration": 0.030458,
     "end_time": "2024-05-08T11:16:14.091098",
     "exception": false,
     "start_time": "2024-05-08T11:16:14.060640",
     "status": "completed"
    },
    "tags": []
   },
   "source": [
    "## net_payment_count feature"
   ]
  },
  {
   "cell_type": "code",
   "execution_count": 24,
   "id": "4c041c8a",
   "metadata": {
    "execution": {
     "iopub.execute_input": "2024-05-08T11:16:14.155018Z",
     "iopub.status.busy": "2024-05-08T11:16:14.154673Z",
     "iopub.status.idle": "2024-05-08T11:16:14.165309Z",
     "shell.execute_reply": "2024-05-08T11:16:14.164446Z"
    },
    "papermill": {
     "duration": 0.044759,
     "end_time": "2024-05-08T11:16:14.167206",
     "exception": false,
     "start_time": "2024-05-08T11:16:14.122447",
     "status": "completed"
    },
    "tags": []
   },
   "outputs": [
    {
     "data": {
      "text/plain": [
       "net_payment_count\n",
       "3     66001\n",
       "4     51324\n",
       "5     26191\n",
       "6     23512\n",
       "7     10754\n",
       "8      8498\n",
       "10     8258\n",
       "9      6998\n",
       "13     5139\n",
       "11     4549\n",
       "12     3985\n",
       "16     3396\n",
       "14     2970\n",
       "15     2687\n",
       "20     2441\n",
       "17     2144\n",
       "18     1943\n",
       "23     1891\n",
       "19     1753\n",
       "26     1518\n",
       "21     1447\n",
       "22     1346\n",
       "30     1205\n",
       "24     1156\n",
       "25     1132\n",
       "33     1062\n",
       "27      967\n",
       "28      904\n",
       "29      877\n",
       "36      869\n",
       "Name: count, dtype: int64"
      ]
     },
     "execution_count": 24,
     "metadata": {},
     "output_type": "execute_result"
    }
   ],
   "source": [
    "# Check value counts of net_payment_count feature\n",
    "df[\"net_payment_count\"].value_counts()[:30]"
   ]
  },
  {
   "cell_type": "markdown",
   "id": "6cdaf206",
   "metadata": {
    "papermill": {
     "duration": 0.03086,
     "end_time": "2024-05-08T11:16:14.229397",
     "exception": false,
     "start_time": "2024-05-08T11:16:14.198537",
     "status": "completed"
    },
    "tags": []
   },
   "source": [
    "- İşletmelerin çoğu ayda 3 ten 10'a kadar net işlem yapıyor"
   ]
  },
  {
   "cell_type": "markdown",
   "id": "335d1370",
   "metadata": {
    "papermill": {
     "duration": 0.031504,
     "end_time": "2024-05-08T11:16:14.292226",
     "exception": false,
     "start_time": "2024-05-08T11:16:14.260722",
     "status": "completed"
    },
    "tags": []
   },
   "source": [
    "## merchant_id feature"
   ]
  },
  {
   "cell_type": "code",
   "execution_count": 25,
   "id": "1ee18614",
   "metadata": {
    "execution": {
     "iopub.execute_input": "2024-05-08T11:16:14.355988Z",
     "iopub.status.busy": "2024-05-08T11:16:14.355669Z",
     "iopub.status.idle": "2024-05-08T11:16:14.385810Z",
     "shell.execute_reply": "2024-05-08T11:16:14.384866Z"
    },
    "papermill": {
     "duration": 0.064584,
     "end_time": "2024-05-08T11:16:14.387772",
     "exception": false,
     "start_time": "2024-05-08T11:16:14.323188",
     "status": "completed"
    },
    "tags": []
   },
   "outputs": [
    {
     "data": {
      "text/plain": [
       "count    2.857000e+05\n",
       "mean     4.231792e+02\n",
       "std      1.092309e+04\n",
       "min     -1.433000e+03\n",
       "25%      4.000000e+00\n",
       "50%      6.000000e+00\n",
       "75%      1.500000e+01\n",
       "max      1.160429e+06\n",
       "Name: net_payment_count, dtype: float64"
      ]
     },
     "execution_count": 25,
     "metadata": {},
     "output_type": "execute_result"
    }
   ],
   "source": [
    "#Get multiple visible id values\n",
    "non_colds = df[\"merchant_id\"].value_counts().reset_index()\n",
    "non_colds = non_colds[non_colds['count'] > 1]\n",
    "non_colds = non_colds[\"merchant_id\"].unique()\n",
    "\n",
    "#Describe dataframe which has multiple visible id values\n",
    "df.loc[df[\"merchant_id\"].isin(non_colds), \"net_payment_count\"].describe()"
   ]
  },
  {
   "cell_type": "code",
   "execution_count": 26,
   "id": "84a6b9ca",
   "metadata": {
    "execution": {
     "iopub.execute_input": "2024-05-08T11:16:14.454258Z",
     "iopub.status.busy": "2024-05-08T11:16:14.453941Z",
     "iopub.status.idle": "2024-05-08T11:16:14.466558Z",
     "shell.execute_reply": "2024-05-08T11:16:14.465705Z"
    },
    "papermill": {
     "duration": 0.048131,
     "end_time": "2024-05-08T11:16:14.468432",
     "exception": false,
     "start_time": "2024-05-08T11:16:14.420301",
     "status": "completed"
    },
    "tags": []
   },
   "outputs": [
    {
     "data": {
      "text/plain": [
       "count    5442.000000\n",
       "mean        6.153069\n",
       "std        93.737702\n",
       "min        -1.000000\n",
       "25%         3.000000\n",
       "50%         3.000000\n",
       "75%         4.000000\n",
       "max      5475.000000\n",
       "Name: net_payment_count, dtype: float64"
      ]
     },
     "execution_count": 26,
     "metadata": {},
     "output_type": "execute_result"
    }
   ],
   "source": [
    "#Describe dataframe which has once id values\n",
    "df.loc[~df[\"merchant_id\"].isin(non_colds), \"net_payment_count\"].describe()"
   ]
  },
  {
   "cell_type": "markdown",
   "id": "b75ad871",
   "metadata": {
    "papermill": {
     "duration": 0.0312,
     "end_time": "2024-05-08T11:16:14.531081",
     "exception": false,
     "start_time": "2024-05-08T11:16:14.499881",
     "status": "completed"
    },
    "tags": []
   },
   "source": [
    "- Sadece bir kez görünen kullanıcılar ile birden çok görünen kullanıcıların eğilimlerinin farklı olduğu görülüyor.\n",
    "- Birden fazla görünen kullanıcılarda standart sapma ve ortalama değerleri, bir kere görünen kullanıcılara kıyasla oldukça düşüktür. Ancak %25, %50 ve %75'lik sınır değerleri birbirine yakındır. Outlier değerlerin genellikle bir kere görünen kullanıcılarda gözüktüğü söylenebilir. "
   ]
  },
  {
   "cell_type": "markdown",
   "id": "8b410631",
   "metadata": {
    "papermill": {
     "duration": 0.032685,
     "end_time": "2024-05-08T11:16:14.595830",
     "exception": false,
     "start_time": "2024-05-08T11:16:14.563145",
     "status": "completed"
    },
    "tags": []
   },
   "source": [
    "### Companies suspending operations in Iyzico"
   ]
  },
  {
   "cell_type": "markdown",
   "id": "c9df9360",
   "metadata": {
    "papermill": {
     "duration": 0.031695,
     "end_time": "2024-05-08T11:16:14.659034",
     "exception": false,
     "start_time": "2024-05-08T11:16:14.627339",
     "status": "completed"
    },
    "tags": []
   },
   "source": [
    "İyzico'ya kayıt yaptırdıktan sonra iyzico'daki işlemlerine ara vermiş şirketlerin net işlem sayılarını analiz edelim."
   ]
  },
  {
   "cell_type": "code",
   "execution_count": 27,
   "id": "376ea540",
   "metadata": {
    "execution": {
     "iopub.execute_input": "2024-05-08T11:16:14.724673Z",
     "iopub.status.busy": "2024-05-08T11:16:14.724350Z",
     "iopub.status.idle": "2024-05-08T11:16:14.750681Z",
     "shell.execute_reply": "2024-05-08T11:16:14.749984Z"
    },
    "papermill": {
     "duration": 0.060827,
     "end_time": "2024-05-08T11:16:14.752751",
     "exception": false,
     "start_time": "2024-05-08T11:16:14.691924",
     "status": "completed"
    },
    "tags": []
   },
   "outputs": [],
   "source": [
    "df[\"month_after_starting\"] = (df[\"year\"] - 2020) * 12 + df[\"month\"]\n",
    "df[\"count_ofbreak_oniyzico\"] = df.groupby(\"merchant_id\")[\"month_after_starting\"].diff().fillna(1) - 1"
   ]
  },
  {
   "cell_type": "code",
   "execution_count": 28,
   "id": "79200ce6",
   "metadata": {
    "execution": {
     "iopub.execute_input": "2024-05-08T11:16:14.821322Z",
     "iopub.status.busy": "2024-05-08T11:16:14.820981Z",
     "iopub.status.idle": "2024-05-08T11:16:14.834825Z",
     "shell.execute_reply": "2024-05-08T11:16:14.833889Z"
    },
    "papermill": {
     "duration": 0.049042,
     "end_time": "2024-05-08T11:16:14.836745",
     "exception": false,
     "start_time": "2024-05-08T11:16:14.787703",
     "status": "completed"
    },
    "tags": []
   },
   "outputs": [
    {
     "data": {
      "text/plain": [
       "count_ofbreak_oniyzico\n",
       "0.0     254692\n",
       "1.0      16945\n",
       "2.0       6864\n",
       "3.0       3704\n",
       "4.0       2247\n",
       "5.0       1591\n",
       "6.0       1078\n",
       "7.0        830\n",
       "8.0        607\n",
       "9.0        511\n",
       "10.0       353\n",
       "11.0       296\n",
       "12.0       219\n",
       "14.0       154\n",
       "13.0       151\n",
       "15.0       143\n",
       "16.0       111\n",
       "17.0        92\n",
       "18.0        74\n",
       "19.0        68\n",
       "20.0        60\n",
       "21.0        53\n",
       "22.0        45\n",
       "24.0        40\n",
       "25.0        40\n",
       "23.0        30\n",
       "27.0        27\n",
       "28.0        19\n",
       "26.0        17\n",
       "29.0        17\n",
       "30.0        11\n",
       "33.0        10\n",
       "31.0        10\n",
       "32.0         7\n",
       "35.0         7\n",
       "34.0         7\n",
       "38.0         6\n",
       "39.0         2\n",
       "37.0         2\n",
       "36.0         2\n",
       "Name: count, dtype: int64"
      ]
     },
     "execution_count": 28,
     "metadata": {},
     "output_type": "execute_result"
    }
   ],
   "source": [
    "df[\"count_ofbreak_oniyzico\"].value_counts()"
   ]
  },
  {
   "cell_type": "code",
   "execution_count": 29,
   "id": "5e4f2182",
   "metadata": {
    "execution": {
     "iopub.execute_input": "2024-05-08T11:16:14.903608Z",
     "iopub.status.busy": "2024-05-08T11:16:14.902953Z",
     "iopub.status.idle": "2024-05-08T11:16:16.997486Z",
     "shell.execute_reply": "2024-05-08T11:16:16.996591Z"
    },
    "papermill": {
     "duration": 2.131092,
     "end_time": "2024-05-08T11:16:17.000835",
     "exception": false,
     "start_time": "2024-05-08T11:16:14.869743",
     "status": "completed"
    },
    "tags": []
   },
   "outputs": [
    {
     "data": {
      "image/png": "[encoded data removed]",
      "text/plain": [
       "<Figure size 1500x600 with 2 Axes>"
      ]
     },
     "metadata": {},
     "output_type": "display_data"
    }
   ],
   "source": [
    "df_break = df[df[\"count_ofbreak_oniyzico\"] != 0].copy()\n",
    "df_notbreak = df[df[\"count_ofbreak_oniyzico\"] == 0].copy()\n",
    "fig, ax = plt.subplots(nrows= 1, ncols=2, figsize = (15,6))\n",
    "sns.lineplot(df_break[\"net_payment_count\"],ax = ax[0],  color = \"orange\")\n",
    "sns.lineplot(df_notbreak[\"net_payment_count\"], ax = ax[1])\n",
    "\n",
    "ax[0].set_title(\"Net Transactions of Companies that took a Break from Iyzico\")\n",
    "ax[1].set_title(\"Net Transactions of Companies that not took a Break from Iyzico\")\n",
    "\n",
    "plt.show()"
   ]
  },
  {
   "cell_type": "markdown",
   "id": "a06dbc2b",
   "metadata": {
    "papermill": {
     "duration": 0.038588,
     "end_time": "2024-05-08T11:16:17.076645",
     "exception": false,
     "start_time": "2024-05-08T11:16:17.038057",
     "status": "completed"
    },
    "tags": []
   },
   "source": [
    "Görüldüğü üzere İyzico üzerinde işlemlerine ara vermiş şirketlerin net işlem sayısı, diğer şirketlere kıyasla oldukça azdır."
   ]
  },
  {
   "cell_type": "code",
   "execution_count": 30,
   "id": "cad3f983",
   "metadata": {
    "execution": {
     "iopub.execute_input": "2024-05-08T11:16:17.152993Z",
     "iopub.status.busy": "2024-05-08T11:16:17.152673Z",
     "iopub.status.idle": "2024-05-08T11:16:17.169347Z",
     "shell.execute_reply": "2024-05-08T11:16:17.168354Z"
    },
    "papermill": {
     "duration": 0.055543,
     "end_time": "2024-05-08T11:16:17.171396",
     "exception": false,
     "start_time": "2024-05-08T11:16:17.115853",
     "status": "completed"
    },
    "tags": []
   },
   "outputs": [],
   "source": [
    "df = df.drop([\"month_after_starting\", \"count_ofbreak_oniyzico\"], axis = 1)"
   ]
  },
  {
   "cell_type": "markdown",
   "id": "ecb58f95",
   "metadata": {
    "papermill": {
     "duration": 0.032718,
     "end_time": "2024-05-08T11:16:17.236744",
     "exception": false,
     "start_time": "2024-05-08T11:16:17.204026",
     "status": "completed"
    },
    "tags": []
   },
   "source": [
    "### Finding companies with seasonal entries"
   ]
  },
  {
   "cell_type": "code",
   "execution_count": 31,
   "id": "58741da1",
   "metadata": {
    "execution": {
     "iopub.execute_input": "2024-05-08T11:16:17.302952Z",
     "iopub.status.busy": "2024-05-08T11:16:17.302350Z",
     "iopub.status.idle": "2024-05-08T11:16:17.307869Z",
     "shell.execute_reply": "2024-05-08T11:16:17.307029Z"
    },
    "papermill": {
     "duration": 0.040465,
     "end_time": "2024-05-08T11:16:17.309721",
     "exception": false,
     "start_time": "2024-05-08T11:16:17.269256",
     "status": "completed"
    },
    "tags": []
   },
   "outputs": [
    {
     "data": {
      "text/plain": [
       "'df_ = df.groupby([\\'merchant_id\\', \\'count_ofbreak_oniyzico\\']).size().reset_index(name=\\'count\\').copy()\\ndf_ = df_[(df_[\"count\"] > 1) & (df_[\"count_ofbreak_oniyzico\"] != 0)]\\ndf_.head()'"
      ]
     },
     "execution_count": 31,
     "metadata": {},
     "output_type": "execute_result"
    }
   ],
   "source": [
    "\"\"\"df_ = df.groupby(['merchant_id', 'count_ofbreak_oniyzico']).size().reset_index(name='count').copy()\n",
    "df_ = df_[(df_[\"count\"] > 1) & (df_[\"count_ofbreak_oniyzico\"] != 0)]\n",
    "df_.head()\"\"\""
   ]
  },
  {
   "cell_type": "markdown",
   "id": "c1394004",
   "metadata": {
    "papermill": {
     "duration": 0.032558,
     "end_time": "2024-05-08T11:16:17.374910",
     "exception": false,
     "start_time": "2024-05-08T11:16:17.342352",
     "status": "completed"
    },
    "tags": []
   },
   "source": [
    "## merchant_source_name feature"
   ]
  },
  {
   "cell_type": "code",
   "execution_count": 32,
   "id": "83f51167",
   "metadata": {
    "execution": {
     "iopub.execute_input": "2024-05-08T11:16:17.441524Z",
     "iopub.status.busy": "2024-05-08T11:16:17.440824Z",
     "iopub.status.idle": "2024-05-08T11:16:17.473844Z",
     "shell.execute_reply": "2024-05-08T11:16:17.472920Z"
    },
    "papermill": {
     "duration": 0.068641,
     "end_time": "2024-05-08T11:16:17.475850",
     "exception": false,
     "start_time": "2024-05-08T11:16:17.407209",
     "status": "completed"
    },
    "tags": []
   },
   "outputs": [
    {
     "data": {
      "text/plain": [
       "count    164996.000000\n",
       "mean        220.254976\n",
       "std        7337.129128\n",
       "min        -830.000000\n",
       "25%           4.000000\n",
       "50%           5.000000\n",
       "75%          12.000000\n",
       "max      904587.000000\n",
       "Name: net_payment_count, dtype: float64"
      ]
     },
     "execution_count": 32,
     "metadata": {},
     "output_type": "execute_result"
    }
   ],
   "source": [
    "#Separating the dataframe according to merchant sources\n",
    "df_msm1 = df[df[\"merchant_source_name\"] == 1]\n",
    "df_msm2 = df[df[\"merchant_source_name\"] == 2]\n",
    "df_msm3 = df[df[\"merchant_source_name\"] == 3]\n",
    "#Describe dataframe with merchant source number 1\n",
    "df_msm1[\"net_payment_count\"].describe()"
   ]
  },
  {
   "cell_type": "code",
   "execution_count": 33,
   "id": "00130734",
   "metadata": {
    "execution": {
     "iopub.execute_input": "2024-05-08T11:16:17.543801Z",
     "iopub.status.busy": "2024-05-08T11:16:17.543145Z",
     "iopub.status.idle": "2024-05-08T11:16:17.554808Z",
     "shell.execute_reply": "2024-05-08T11:16:17.554002Z"
    },
    "papermill": {
     "duration": 0.047133,
     "end_time": "2024-05-08T11:16:17.556600",
     "exception": false,
     "start_time": "2024-05-08T11:16:17.509467",
     "status": "completed"
    },
    "tags": []
   },
   "outputs": [
    {
     "data": {
      "text/plain": [
       "count    112541.000000\n",
       "mean         42.945149\n",
       "std         481.913535\n",
       "min        -112.000000\n",
       "25%           4.000000\n",
       "50%           6.000000\n",
       "75%          13.000000\n",
       "max       78033.000000\n",
       "Name: net_payment_count, dtype: float64"
      ]
     },
     "execution_count": 33,
     "metadata": {},
     "output_type": "execute_result"
    }
   ],
   "source": [
    "#Describe dataframe with merchant source number 2\n",
    "df_msm2[\"net_payment_count\"].describe()"
   ]
  },
  {
   "cell_type": "code",
   "execution_count": 34,
   "id": "dffedea0",
   "metadata": {
    "execution": {
     "iopub.execute_input": "2024-05-08T11:16:17.623935Z",
     "iopub.status.busy": "2024-05-08T11:16:17.623248Z",
     "iopub.status.idle": "2024-05-08T11:16:17.631749Z",
     "shell.execute_reply": "2024-05-08T11:16:17.630993Z"
    },
    "papermill": {
     "duration": 0.044209,
     "end_time": "2024-05-08T11:16:17.633585",
     "exception": false,
     "start_time": "2024-05-08T11:16:17.589376",
     "status": "completed"
    },
    "tags": []
   },
   "outputs": [
    {
     "data": {
      "text/plain": [
       "count    1.360500e+04\n",
       "mean     5.862661e+03\n",
       "std      4.265764e+04\n",
       "min     -1.433000e+03\n",
       "25%      9.000000e+00\n",
       "50%      1.060000e+02\n",
       "75%      1.155000e+03\n",
       "max      1.160429e+06\n",
       "Name: net_payment_count, dtype: float64"
      ]
     },
     "execution_count": 34,
     "metadata": {},
     "output_type": "execute_result"
    }
   ],
   "source": [
    "#Describe dataframe with merchant source number 3\n",
    "df_msm3[\"net_payment_count\"].describe()"
   ]
  },
  {
   "cell_type": "markdown",
   "id": "4f3667d5",
   "metadata": {
    "papermill": {
     "duration": 0.033125,
     "end_time": "2024-05-08T11:16:17.700292",
     "exception": false,
     "start_time": "2024-05-08T11:16:17.667167",
     "status": "completed"
    },
    "tags": []
   },
   "source": [
    "- **Ortalama değerleri olarak karşılaştırıldığında;** 3 numaralı kaynaktan İyzicoya katılan kurumların ortalaması diğerlerine göre oldukça yüksektir. En düşük ortalamaya ise 2 numaralı kaynaktan İyzicoya katılan kurumlar sahiptir.\n",
    "- **Standart sapma değerleri olarak karşılaştırıldığında;** 3 numaralı kaynaktan İyzicoya katılan kurumların değişkenliği diğerlerine göre oldukça yüksektir. En az değişkenliğe ise 2 numaralı kaynaktan İyzicoya katılan kurumlar sahiptir.\n",
    "- **%25 aralığa göre karşılaştırıldığında;** 1 ve 2 numaralı kaynaklar birbirinini aynısıdır. Ancak 3 numaralı kaynak yine en büyük değere sahiptir.\n",
    "- **%50 aralığa göre karşılaştırıldığında;** 1 ve 2 numaralı kaynaklar birbirine çok yakındır. Ancak 3 numaralı kaynak yine en büyük değere sahiptir.\n",
    "- **%75 aralığa göre karşılaştırıldığında;** 1 ve 2 numaralı kaynaklar birbirine çok yakındır. Ancak 3 numaralı kaynak yine en büyük değere sahiptir.\n",
    "- En küçük ve En büyük değerler ise 3 numaralı kaynaktan İyzicoya katılan kurumlara aittir. \n",
    "\n",
    "Dolayısıyla 3 numaralı kaynaktan İyzicoya katılan kurumlar oldukça değişkenliğe sahiptir ve outlier değerlerin çoğu 3 numaralı kaynağa aittir diyebiliriz.\n"
   ]
  },
  {
   "cell_type": "code",
   "execution_count": 35,
   "id": "eefb60d3",
   "metadata": {
    "execution": {
     "iopub.execute_input": "2024-05-08T11:16:17.778794Z",
     "iopub.status.busy": "2024-05-08T11:16:17.778488Z",
     "iopub.status.idle": "2024-05-08T11:16:17.824459Z",
     "shell.execute_reply": "2024-05-08T11:16:17.823584Z"
    },
    "papermill": {
     "duration": 0.084616,
     "end_time": "2024-05-08T11:16:17.826580",
     "exception": false,
     "start_time": "2024-05-08T11:16:17.741964",
     "status": "completed"
    },
    "tags": []
   },
   "outputs": [
    {
     "name": "stdout",
     "output_type": "stream",
     "text": [
      "Kruskal-Wallis p-value: 0.0\n",
      "En azından bir grup farklı medyan değerine sahiptir\n"
     ]
    }
   ],
   "source": [
    "conduct_kruskal_wallis_test(df, \"merchant_source_name\", \"net_payment_count\")"
   ]
  },
  {
   "cell_type": "code",
   "execution_count": 36,
   "id": "c24b4361",
   "metadata": {
    "execution": {
     "iopub.execute_input": "2024-05-08T11:16:17.894992Z",
     "iopub.status.busy": "2024-05-08T11:16:17.894714Z",
     "iopub.status.idle": "2024-05-08T11:16:18.211308Z",
     "shell.execute_reply": "2024-05-08T11:16:18.210443Z"
    },
    "papermill": {
     "duration": 0.352768,
     "end_time": "2024-05-08T11:16:18.213498",
     "exception": false,
     "start_time": "2024-05-08T11:16:17.860730",
     "status": "completed"
    },
    "tags": []
   },
   "outputs": [
    {
     "data": {
      "image/png": "[encoded data removed]",
      "text/plain": [
       "<Figure size 1000x600 with 1 Axes>"
      ]
     },
     "metadata": {},
     "output_type": "display_data"
    }
   ],
   "source": [
    "plot_nemenyi_posthoc_test(df, \"merchant_source_name\", \"net_payment_count\")"
   ]
  },
  {
   "cell_type": "markdown",
   "id": "ae5a3a1e",
   "metadata": {
    "papermill": {
     "duration": 0.034542,
     "end_time": "2024-05-08T11:16:18.282938",
     "exception": false,
     "start_time": "2024-05-08T11:16:18.248396",
     "status": "completed"
    },
    "tags": []
   },
   "source": [
    "Nemenyi testine göre bütün gruplar birbirinden anlamlı ölçüde farklılık göstermektedir."
   ]
  },
  {
   "cell_type": "markdown",
   "id": "77432f6b",
   "metadata": {
    "papermill": {
     "duration": 0.03433,
     "end_time": "2024-05-08T11:16:18.351034",
     "exception": false,
     "start_time": "2024-05-08T11:16:18.316704",
     "status": "completed"
    },
    "tags": []
   },
   "source": [
    "## settlement_period feature"
   ]
  },
  {
   "cell_type": "code",
   "execution_count": 37,
   "id": "84e215d8",
   "metadata": {
    "execution": {
     "iopub.execute_input": "2024-05-08T11:16:18.422636Z",
     "iopub.status.busy": "2024-05-08T11:16:18.422253Z",
     "iopub.status.idle": "2024-05-08T11:16:18.453157Z",
     "shell.execute_reply": "2024-05-08T11:16:18.452238Z"
    },
    "papermill": {
     "duration": 0.068371,
     "end_time": "2024-05-08T11:16:18.455112",
     "exception": false,
     "start_time": "2024-05-08T11:16:18.386741",
     "status": "completed"
    },
    "tags": []
   },
   "outputs": [
    {
     "data": {
      "text/plain": [
       "count    268906.000000\n",
       "mean         69.328234\n",
       "std        1250.412774\n",
       "min       -1433.000000\n",
       "25%           4.000000\n",
       "50%           5.000000\n",
       "75%          12.000000\n",
       "max      195879.000000\n",
       "Name: net_payment_count, dtype: float64"
      ]
     },
     "execution_count": 37,
     "metadata": {},
     "output_type": "execute_result"
    }
   ],
   "source": [
    "#Separating the dataframe according to settlement period\n",
    "df_sp1 = df[df[\"settlement_period\"] == 1]\n",
    "df_sp2 = df[df[\"settlement_period\"] == 2]\n",
    "df_sp3 = df[df[\"settlement_period\"] == 3]\n",
    "#Describe dataframe with settlement period number 1\n",
    "df_sp1[\"net_payment_count\"].describe()"
   ]
  },
  {
   "cell_type": "code",
   "execution_count": 38,
   "id": "e39930a2",
   "metadata": {
    "execution": {
     "iopub.execute_input": "2024-05-08T11:16:18.523581Z",
     "iopub.status.busy": "2024-05-08T11:16:18.523253Z",
     "iopub.status.idle": "2024-05-08T11:16:18.532727Z",
     "shell.execute_reply": "2024-05-08T11:16:18.531802Z"
    },
    "papermill": {
     "duration": 0.046076,
     "end_time": "2024-05-08T11:16:18.534860",
     "exception": false,
     "start_time": "2024-05-08T11:16:18.488784",
     "status": "completed"
    },
    "tags": []
   },
   "outputs": [
    {
     "data": {
      "text/plain": [
       "count      1683.000000\n",
       "mean      19449.964349\n",
       "std       70261.469809\n",
       "min         -12.000000\n",
       "25%          17.000000\n",
       "50%         367.000000\n",
       "75%        9540.000000\n",
       "max      904587.000000\n",
       "Name: net_payment_count, dtype: float64"
      ]
     },
     "execution_count": 38,
     "metadata": {},
     "output_type": "execute_result"
    }
   ],
   "source": [
    "#Describe dataframe with settlement period number 2\n",
    "df_sp2[\"net_payment_count\"].describe()"
   ]
  },
  {
   "cell_type": "code",
   "execution_count": 39,
   "id": "fe72b88a",
   "metadata": {
    "execution": {
     "iopub.execute_input": "2024-05-08T11:16:18.606728Z",
     "iopub.status.busy": "2024-05-08T11:16:18.606384Z",
     "iopub.status.idle": "2024-05-08T11:16:18.617298Z",
     "shell.execute_reply": "2024-05-08T11:16:18.616323Z"
    },
    "papermill": {
     "duration": 0.049354,
     "end_time": "2024-05-08T11:16:18.619334",
     "exception": false,
     "start_time": "2024-05-08T11:16:18.569980",
     "status": "completed"
    },
    "tags": []
   },
   "outputs": [
    {
     "data": {
      "text/plain": [
       "count    2.055300e+04\n",
       "mean     3.384358e+03\n",
       "std      3.455618e+04\n",
       "min     -5.640000e+02\n",
       "25%      5.000000e+00\n",
       "50%      2.700000e+01\n",
       "75%      2.780000e+02\n",
       "max      1.160429e+06\n",
       "Name: net_payment_count, dtype: float64"
      ]
     },
     "execution_count": 39,
     "metadata": {},
     "output_type": "execute_result"
    }
   ],
   "source": [
    "#Describe dataframe with settlement period number 3\n",
    "df_sp3[\"net_payment_count\"].describe()"
   ]
  },
  {
   "cell_type": "markdown",
   "id": "5f3c617c",
   "metadata": {
    "papermill": {
     "duration": 0.033778,
     "end_time": "2024-05-08T11:16:18.687645",
     "exception": false,
     "start_time": "2024-05-08T11:16:18.653867",
     "status": "completed"
    },
    "tags": []
   },
   "source": [
    "- **Ortalama değerleri olarak karşılaştırıldığında;** Hak ediş sıklığı 2 olan kurumların ortalaması diğerlerine göre oldukça yüksektir. En düşük ortalamaya ise Hak ediş sıklığı 1 olan kurumlar sahiptir.\n",
    "- **Standart sapma değerleri olarak karşılaştırıldığında;** Hak ediş sıklığı 3 olan kurumların değişkenliği diğerlerine göre oldukça yüksektir.En az değişkenliğe ise Hak ediş sıklığı 1 olan kurumlar sahiptir.\n",
    "- **%25 aralığa göre karşılaştırıldığında;** 1 ve 3 adet hak edişe sahip kurumların değerleri birbirine oldukça yakındır. Ancak 2 adet hak edişe sahip kurumların değeri yüksektir.\n",
    "- **%50 aralığa göre karşılaştırıldığında;** Hak ediş sıklığı 2 olan kurumların değeri diğerlerine göre oldukça yüksektir. En düşük değere ise Hak ediş sıklığı 1 olan kurumlar sahiptir.\n",
    "- **%75 aralığa göre karşılaştırıldığında;** Hak ediş sıklığı 2 olan kurumların değeri diğerlerine göre oldukça yüksektir. En düşük değere ise Hak ediş sıklığı 1 olan kurumlar sahiptir.\n",
    "- En küçük değere Hak ediş sıklığı 1 olan kurumlar sahiptir.\n",
    "- En büyük değre Hak ediş sıklığı 3 olan kurumlar sahiptir.\n",
    "\n",
    "\n",
    "1 adet hak ediş sıklığına sahip olan kurumların; %25 ile %75 aralık değerleri arasındaki fark oldukça azdır. Bu da  dengeli değerlere sahip olduğunu gösterir. Buna rağmen standart sapması ortalamaya göre oldukça fazladır. Bu da outlier değerlerin değişkenliği oldukça etkilediğini göstermektedir.\n",
    "\n",
    "2 adet hak ediş sıklığına sahip olan kurumların; %25 ile %75 aralık değerleri arasındaki fark oldukça fazladır. Bu da dengeli değerlere sahip olmadığını gösterir. Ortalaması ve Standart sapması  oldukça fazladır. Bu da büyük değerlerin genelde bu kurumlarda olduğunu göstermektedir. \n",
    "\n",
    "3 adet hak ediş sıklığına sahip olan kurumların; %25 ile %75 aralık değerleri arasındaki fark ne çok fazla ne de çok azdır. Bu da görece dengeli değerlere sahip olduğunu gösterir. En büyük değere bu kurumlardan birisi sahip olmuştur."
   ]
  },
  {
   "cell_type": "code",
   "execution_count": 40,
   "id": "be932c9e",
   "metadata": {
    "execution": {
     "iopub.execute_input": "2024-05-08T11:16:18.756209Z",
     "iopub.status.busy": "2024-05-08T11:16:18.755917Z",
     "iopub.status.idle": "2024-05-08T11:16:18.785249Z",
     "shell.execute_reply": "2024-05-08T11:16:18.784307Z"
    },
    "papermill": {
     "duration": 0.065837,
     "end_time": "2024-05-08T11:16:18.787238",
     "exception": false,
     "start_time": "2024-05-08T11:16:18.721401",
     "status": "completed"
    },
    "tags": []
   },
   "outputs": [
    {
     "name": "stdout",
     "output_type": "stream",
     "text": [
      "Kruskal-Wallis p-value: 0.0\n",
      "En azından bir grup farklı medyan değerine sahiptir\n"
     ]
    }
   ],
   "source": [
    "conduct_kruskal_wallis_test(df, \"settlement_period\", \"net_payment_count\")"
   ]
  },
  {
   "cell_type": "code",
   "execution_count": 41,
   "id": "52d960e6",
   "metadata": {
    "execution": {
     "iopub.execute_input": "2024-05-08T11:16:18.857090Z",
     "iopub.status.busy": "2024-05-08T11:16:18.856789Z",
     "iopub.status.idle": "2024-05-08T11:16:19.107480Z",
     "shell.execute_reply": "2024-05-08T11:16:19.106446Z"
    },
    "papermill": {
     "duration": 0.290053,
     "end_time": "2024-05-08T11:16:19.111803",
     "exception": false,
     "start_time": "2024-05-08T11:16:18.821750",
     "status": "completed"
    },
    "tags": []
   },
   "outputs": [
    {
     "data": {
      "image/png": "[encoded data removed]",
      "text/plain": [
       "<Figure size 1000x600 with 1 Axes>"
      ]
     },
     "metadata": {},
     "output_type": "display_data"
    }
   ],
   "source": [
    "plot_nemenyi_posthoc_test(df, \"settlement_period\", \"net_payment_count\")"
   ]
  },
  {
   "cell_type": "markdown",
   "id": "abdf4653",
   "metadata": {
    "papermill": {
     "duration": 0.034275,
     "end_time": "2024-05-08T11:16:19.191018",
     "exception": false,
     "start_time": "2024-05-08T11:16:19.156743",
     "status": "completed"
    },
    "tags": []
   },
   "source": [
    "Nemenyi testine göre bütün gruplar birbirinden anlamlı ölçüde farklılık göstermektedir."
   ]
  },
  {
   "cell_type": "markdown",
   "id": "3973cfc4",
   "metadata": {
    "papermill": {
     "duration": 0.035123,
     "end_time": "2024-05-08T11:16:19.260239",
     "exception": false,
     "start_time": "2024-05-08T11:16:19.225116",
     "status": "completed"
    },
    "tags": []
   },
   "source": [
    "## working_type feature"
   ]
  },
  {
   "cell_type": "code",
   "execution_count": 42,
   "id": "6ba93958",
   "metadata": {
    "execution": {
     "iopub.execute_input": "2024-05-08T11:16:19.334458Z",
     "iopub.status.busy": "2024-05-08T11:16:19.333737Z",
     "iopub.status.idle": "2024-05-08T11:16:19.365803Z",
     "shell.execute_reply": "2024-05-08T11:16:19.364960Z"
    },
    "papermill": {
     "duration": 0.070353,
     "end_time": "2024-05-08T11:16:19.368121",
     "exception": false,
     "start_time": "2024-05-08T11:16:19.297768",
     "status": "completed"
    },
    "tags": []
   },
   "outputs": [
    {
     "data": {
      "text/plain": [
       "count    64.000000\n",
       "mean     12.359375\n",
       "std      18.255129\n",
       "min       3.000000\n",
       "25%       3.750000\n",
       "50%       4.500000\n",
       "75%       6.000000\n",
       "max      81.000000\n",
       "Name: net_payment_count, dtype: float64"
      ]
     },
     "execution_count": 42,
     "metadata": {},
     "output_type": "execute_result"
    }
   ],
   "source": [
    "#Separating the dataframe according to working type\n",
    "df_wt1 = df[df[\"working_type\"] == 1]\n",
    "df_wt2 = df[df[\"working_type\"] == 2]\n",
    "df_wt3 = df[df[\"working_type\"] == 3]\n",
    "df_wt4 = df[df[\"working_type\"] == 4]\n",
    "df_wt5 = df[df[\"working_type\"] == 5]\n",
    "df_wt6 = df[df[\"working_type\"] == 6]\n",
    "#Describe dataframe with working type number 1\n",
    "df_wt1[\"net_payment_count\"].describe()"
   ]
  },
  {
   "cell_type": "code",
   "execution_count": 43,
   "id": "4f58ce79",
   "metadata": {
    "execution": {
     "iopub.execute_input": "2024-05-08T11:16:19.439309Z",
     "iopub.status.busy": "2024-05-08T11:16:19.439002Z",
     "iopub.status.idle": "2024-05-08T11:16:19.449049Z",
     "shell.execute_reply": "2024-05-08T11:16:19.448131Z"
    },
    "papermill": {
     "duration": 0.047912,
     "end_time": "2024-05-08T11:16:19.451050",
     "exception": false,
     "start_time": "2024-05-08T11:16:19.403138",
     "status": "completed"
    },
    "tags": []
   },
   "outputs": [
    {
     "data": {
      "text/plain": [
       "count    4.007100e+04\n",
       "mean     1.394785e+03\n",
       "std      2.271250e+04\n",
       "min     -1.433000e+03\n",
       "25%      4.000000e+00\n",
       "50%      9.000000e+00\n",
       "75%      4.900000e+01\n",
       "max      1.160429e+06\n",
       "Name: net_payment_count, dtype: float64"
      ]
     },
     "execution_count": 43,
     "metadata": {},
     "output_type": "execute_result"
    }
   ],
   "source": [
    "#Describe dataframe with working type number 2\n",
    "df_wt2[\"net_payment_count\"].describe()"
   ]
  },
  {
   "cell_type": "code",
   "execution_count": 44,
   "id": "6df5d323",
   "metadata": {
    "execution": {
     "iopub.execute_input": "2024-05-08T11:16:19.523298Z",
     "iopub.status.busy": "2024-05-08T11:16:19.522960Z",
     "iopub.status.idle": "2024-05-08T11:16:19.533208Z",
     "shell.execute_reply": "2024-05-08T11:16:19.532213Z"
    },
    "papermill": {
     "duration": 0.049234,
     "end_time": "2024-05-08T11:16:19.535531",
     "exception": false,
     "start_time": "2024-05-08T11:16:19.486297",
     "status": "completed"
    },
    "tags": []
   },
   "outputs": [
    {
     "data": {
      "text/plain": [
       "count    5204.000000\n",
       "mean        5.950423\n",
       "std        11.947167\n",
       "min        -5.000000\n",
       "25%         3.000000\n",
       "50%         4.000000\n",
       "75%         5.000000\n",
       "max       510.000000\n",
       "Name: net_payment_count, dtype: float64"
      ]
     },
     "execution_count": 44,
     "metadata": {},
     "output_type": "execute_result"
    }
   ],
   "source": [
    "#Describe dataframe with working type number 3\n",
    "df_wt3[\"net_payment_count\"].describe()"
   ]
  },
  {
   "cell_type": "code",
   "execution_count": 45,
   "id": "3965129f",
   "metadata": {
    "execution": {
     "iopub.execute_input": "2024-05-08T11:16:19.610432Z",
     "iopub.status.busy": "2024-05-08T11:16:19.610142Z",
     "iopub.status.idle": "2024-05-08T11:16:19.619228Z",
     "shell.execute_reply": "2024-05-08T11:16:19.618413Z"
    },
    "papermill": {
     "duration": 0.046994,
     "end_time": "2024-05-08T11:16:19.621197",
     "exception": false,
     "start_time": "2024-05-08T11:16:19.574203",
     "status": "completed"
    },
    "tags": []
   },
   "outputs": [
    {
     "data": {
      "text/plain": [
       "count    255.000000\n",
       "mean      16.066667\n",
       "std       34.851873\n",
       "min        3.000000\n",
       "25%        4.000000\n",
       "50%        5.000000\n",
       "75%       12.000000\n",
       "max      351.000000\n",
       "Name: net_payment_count, dtype: float64"
      ]
     },
     "execution_count": 45,
     "metadata": {},
     "output_type": "execute_result"
    }
   ],
   "source": [
    "#Describe dataframe with working type number 4\n",
    "df_wt4[\"net_payment_count\"].describe()"
   ]
  },
  {
   "cell_type": "code",
   "execution_count": 46,
   "id": "31d28f43",
   "metadata": {
    "execution": {
     "iopub.execute_input": "2024-05-08T11:16:19.691820Z",
     "iopub.status.busy": "2024-05-08T11:16:19.691546Z",
     "iopub.status.idle": "2024-05-08T11:16:19.702886Z",
     "shell.execute_reply": "2024-05-08T11:16:19.702053Z"
    },
    "papermill": {
     "duration": 0.048955,
     "end_time": "2024-05-08T11:16:19.704971",
     "exception": false,
     "start_time": "2024-05-08T11:16:19.656016",
     "status": "completed"
    },
    "tags": []
   },
   "outputs": [
    {
     "data": {
      "text/plain": [
       "count    116793.000000\n",
       "mean        527.142449\n",
       "std       10690.612940\n",
       "min        -139.000000\n",
       "25%           4.000000\n",
       "50%           6.000000\n",
       "75%          16.000000\n",
       "max      904587.000000\n",
       "Name: net_payment_count, dtype: float64"
      ]
     },
     "execution_count": 46,
     "metadata": {},
     "output_type": "execute_result"
    }
   ],
   "source": [
    "#Describe dataframe with working type number 5\n",
    "df_wt5[\"net_payment_count\"].describe()"
   ]
  },
  {
   "cell_type": "code",
   "execution_count": 47,
   "id": "752e9f7f",
   "metadata": {
    "execution": {
     "iopub.execute_input": "2024-05-08T11:16:19.777164Z",
     "iopub.status.busy": "2024-05-08T11:16:19.776909Z",
     "iopub.status.idle": "2024-05-08T11:16:19.788737Z",
     "shell.execute_reply": "2024-05-08T11:16:19.787929Z"
    },
    "papermill": {
     "duration": 0.049517,
     "end_time": "2024-05-08T11:16:19.790586",
     "exception": false,
     "start_time": "2024-05-08T11:16:19.741069",
     "status": "completed"
    },
    "tags": []
   },
   "outputs": [
    {
     "data": {
      "text/plain": [
       "count    128755.000000\n",
       "mean         26.740398\n",
       "std         279.682083\n",
       "min         -22.000000\n",
       "25%           3.000000\n",
       "50%           5.000000\n",
       "75%          11.000000\n",
       "max       27664.000000\n",
       "Name: net_payment_count, dtype: float64"
      ]
     },
     "execution_count": 47,
     "metadata": {},
     "output_type": "execute_result"
    }
   ],
   "source": [
    "#Describe dataframe with working type number 6\n",
    "df_wt6[\"net_payment_count\"].describe()"
   ]
  },
  {
   "cell_type": "markdown",
   "id": "b6cb9ca1",
   "metadata": {
    "papermill": {
     "duration": 0.035673,
     "end_time": "2024-05-08T11:16:19.861728",
     "exception": false,
     "start_time": "2024-05-08T11:16:19.826055",
     "status": "completed"
    },
    "tags": []
   },
   "source": [
    "- **1,3 ve 4 numaralı iş yeri tipine sahip kurumların** yüzdesel olarak sayısı oldukça azdır ve bu kurumlarda değişkenlik ve ortalama değerleri de diğerlerine göre oldukça düşüktür. Dolayısıyla bu kurumlarda dengeli değerler görülmüştür. Bu tip kurumları aşağıda yapacağım kıyaslamaya dahil etmeyeceğim\n",
    "- **Ortalama değerleri kıyaslandığında;** En yüksek ortalamaya 2 numaralı iş yeri tipi kurumlar sahip iken, en düşük ortalamaya 6 numaralı iş yeri tipi kurumlar sahiptir.\n",
    "- **Standart sapma değerleri kıyaslandığında;** En büyük değişkenliğe 2 numaralı iş yeri tipi kurumlar sahip iken, en az değişkenliğe 6 numaralı iş yeri tipi kurumlar sahiptir.\n",
    "- **%25 ve %50 aralığa göre kıyaslandığında;** Bütün iş yeri tipleri birbirine yakın değerlere sahiptir.\n",
    "- **%75 aralığa göre kıyaslandığında;** En yüksek aralık sınır değerine 2 numaralı kurumlar sahip iken, 5 ve 6 numaralı kurumların aralık sınır değerleri birbirine oldukça yakındır.\n",
    "- En küçük ve en büyük değere 2 numaralı kurumlar sahiptir.\n",
    "\n",
    "Bütün bu analizlere baktığımızda **2 numaralı iş yeri tipi kurumlarda ortalama ve standart sapma değerleri oldukça yüksektir. En büyük ve küçük değerlere sahiptir. Buda bilinmezliğin, değişkenliğin en fazla 2 numaralı iş yeri tipi kurumlarda olduğunu göstermektedir.**"
   ]
  },
  {
   "cell_type": "code",
   "execution_count": 48,
   "id": "c31974e1",
   "metadata": {
    "execution": {
     "iopub.execute_input": "2024-05-08T11:16:19.935350Z",
     "iopub.status.busy": "2024-05-08T11:16:19.934737Z",
     "iopub.status.idle": "2024-05-08T11:16:19.971863Z",
     "shell.execute_reply": "2024-05-08T11:16:19.970939Z"
    },
    "papermill": {
     "duration": 0.076028,
     "end_time": "2024-05-08T11:16:19.973927",
     "exception": false,
     "start_time": "2024-05-08T11:16:19.897899",
     "status": "completed"
    },
    "tags": []
   },
   "outputs": [
    {
     "name": "stdout",
     "output_type": "stream",
     "text": [
      "Kruskal-Wallis p-value: 0.0\n",
      "En azından bir grup farklı medyan değerine sahiptir\n"
     ]
    }
   ],
   "source": [
    "conduct_kruskal_wallis_test(df, \"working_type\", \"net_payment_count\")"
   ]
  },
  {
   "cell_type": "code",
   "execution_count": 49,
   "id": "d1fd0d21",
   "metadata": {
    "execution": {
     "iopub.execute_input": "2024-05-08T11:16:20.047881Z",
     "iopub.status.busy": "2024-05-08T11:16:20.047603Z",
     "iopub.status.idle": "2024-05-08T11:16:20.434843Z",
     "shell.execute_reply": "2024-05-08T11:16:20.433978Z"
    },
    "papermill": {
     "duration": 0.427226,
     "end_time": "2024-05-08T11:16:20.437063",
     "exception": false,
     "start_time": "2024-05-08T11:16:20.009837",
     "status": "completed"
    },
    "tags": []
   },
   "outputs": [
    {
     "data": {
      "image/png": "[encoded data removed]",
      "text/plain": [
       "<Figure size 1000x600 with 1 Axes>"
      ]
     },
     "metadata": {},
     "output_type": "display_data"
    }
   ],
   "source": [
    "plot_nemenyi_posthoc_test(df, \"working_type\", \"net_payment_count\")"
   ]
  },
  {
   "cell_type": "markdown",
   "id": "99611f49",
   "metadata": {
    "papermill": {
     "duration": 0.036654,
     "end_time": "2024-05-08T11:16:20.511785",
     "exception": false,
     "start_time": "2024-05-08T11:16:20.475131",
     "status": "completed"
    },
    "tags": []
   },
   "source": [
    "- **1 numaralı grup, 2 numaralı grup** ile anlamlı farklılığa sahip olup diğer gruplar ile bu farklılığı göstermemektedir. Sayı olarakta oldukça azdır. Dolayısıyla 2 numaralı hariç diğer gruplarla birleştirilebilir.\n",
    "- **2 numaralı grup**, bütün gruplar ile anlamlı farklılığa sahiptir.\n",
    "- **3 numaralı grup**, 1 numaralı grup hariç diğer gruplarla anlamlı farklılığa sahiptir.\n",
    "- **4 numaralı grup**, 2 ve 3 numaralı grup ile anlamlı farklılığa sahiptir.\n",
    "- **5 numaralı grup**, 2, 3 ve 6 numaralı grup ile anlamlı farklılığa sahiptir.\n",
    "- **6 numaralı grup**, 2,3 ve 5 numaralı grup ile anlamlı farklılığa sahiptir.\n",
    "\n",
    "Bu bilgiler ışığında 1 ve 4 numaralı grubu 5 numaralı grup ile birleştireceğim ve böylece grup sayısını azaltmış olacağım."
   ]
  },
  {
   "cell_type": "code",
   "execution_count": 50,
   "id": "18f3ce10",
   "metadata": {
    "execution": {
     "iopub.execute_input": "2024-05-08T11:16:20.585914Z",
     "iopub.status.busy": "2024-05-08T11:16:20.585256Z",
     "iopub.status.idle": "2024-05-08T11:16:20.592739Z",
     "shell.execute_reply": "2024-05-08T11:16:20.592048Z"
    },
    "papermill": {
     "duration": 0.046275,
     "end_time": "2024-05-08T11:16:20.594637",
     "exception": false,
     "start_time": "2024-05-08T11:16:20.548362",
     "status": "completed"
    },
    "tags": []
   },
   "outputs": [],
   "source": [
    "for dataframe in [df, df_sub]:\n",
    "    dataframe.loc[(dataframe[\"working_type\"] == 1) | (dataframe[\"working_type\"] == 4), \"working_type\"] = 5"
   ]
  },
  {
   "cell_type": "markdown",
   "id": "3bba7ca7",
   "metadata": {
    "papermill": {
     "duration": 0.035057,
     "end_time": "2024-05-08T11:16:20.665254",
     "exception": false,
     "start_time": "2024-05-08T11:16:20.630197",
     "status": "completed"
    },
    "tags": []
   },
   "source": [
    "## mcc_id feature"
   ]
  },
  {
   "cell_type": "markdown",
   "id": "6a07e7bb",
   "metadata": {
    "papermill": {
     "duration": 0.035623,
     "end_time": "2024-05-08T11:16:20.736284",
     "exception": false,
     "start_time": "2024-05-08T11:16:20.700661",
     "status": "completed"
    },
    "tags": []
   },
   "source": [
    "Hatırlarsak **mcc_id özelliği** 1'den 197'ye kadar değerleri almıştı."
   ]
  },
  {
   "cell_type": "code",
   "execution_count": 51,
   "id": "a018f390",
   "metadata": {
    "execution": {
     "iopub.execute_input": "2024-05-08T11:16:20.808925Z",
     "iopub.status.busy": "2024-05-08T11:16:20.808639Z",
     "iopub.status.idle": "2024-05-08T11:16:20.818761Z",
     "shell.execute_reply": "2024-05-08T11:16:20.817923Z"
    },
    "papermill": {
     "duration": 0.049122,
     "end_time": "2024-05-08T11:16:20.820738",
     "exception": false,
     "start_time": "2024-05-08T11:16:20.771616",
     "status": "completed"
    },
    "tags": []
   },
   "outputs": [
    {
     "data": {
      "text/plain": [
       "mcc_id\n",
       "42     40543\n",
       "35     29872\n",
       "83     13283\n",
       "110    13126\n",
       "24     12388\n",
       "144    12258\n",
       "130    10359\n",
       "168     9426\n",
       "80      8882\n",
       "126     8336\n",
       "73      7232\n",
       "68      6799\n",
       "5       6160\n",
       "74      5976\n",
       "153     5774\n",
       "1       5215\n",
       "85      4871\n",
       "20      4687\n",
       "28      4372\n",
       "109     4309\n",
       "169     4290\n",
       "40      3639\n",
       "143     3378\n",
       "165     3335\n",
       "162     3278\n",
       "55      3243\n",
       "106     3206\n",
       "131     2975\n",
       "190     2752\n",
       "56      2582\n",
       "Name: count, dtype: int64"
      ]
     },
     "execution_count": 51,
     "metadata": {},
     "output_type": "execute_result"
    }
   ],
   "source": [
    "df[\"mcc_id\"].value_counts()[:30]"
   ]
  },
  {
   "cell_type": "markdown",
   "id": "a932cb66",
   "metadata": {
    "papermill": {
     "duration": 0.035617,
     "end_time": "2024-05-08T11:16:20.892323",
     "exception": false,
     "start_time": "2024-05-08T11:16:20.856706",
     "status": "completed"
    },
    "tags": []
   },
   "source": [
    "İş yerlerinin çoğu **42, 35, 83, 110, 24, 144, 130** numaralı kategorilerde satış yapmaktadır."
   ]
  },
  {
   "cell_type": "code",
   "execution_count": 52,
   "id": "819d9512",
   "metadata": {
    "execution": {
     "iopub.execute_input": "2024-05-08T11:16:20.966297Z",
     "iopub.status.busy": "2024-05-08T11:16:20.965999Z",
     "iopub.status.idle": "2024-05-08T11:16:21.106748Z",
     "shell.execute_reply": "2024-05-08T11:16:21.105719Z"
    },
    "papermill": {
     "duration": 0.180063,
     "end_time": "2024-05-08T11:16:21.108833",
     "exception": false,
     "start_time": "2024-05-08T11:16:20.928770",
     "status": "completed"
    },
    "tags": []
   },
   "outputs": [
    {
     "name": "stdout",
     "output_type": "stream",
     "text": [
      "Kruskal-Wallis p-value: 0.0\n",
      "En azından bir grup farklı medyan değerine sahiptir\n"
     ]
    }
   ],
   "source": [
    "conduct_kruskal_wallis_test(df, \"mcc_id\", \"net_payment_count\")"
   ]
  },
  {
   "cell_type": "code",
   "execution_count": 53,
   "id": "31946a17",
   "metadata": {
    "execution": {
     "iopub.execute_input": "2024-05-08T11:16:21.182014Z",
     "iopub.status.busy": "2024-05-08T11:16:21.181715Z",
     "iopub.status.idle": "2024-05-08T11:16:23.773231Z",
     "shell.execute_reply": "2024-05-08T11:16:23.772337Z"
    },
    "papermill": {
     "duration": 2.630503,
     "end_time": "2024-05-08T11:16:23.775688",
     "exception": false,
     "start_time": "2024-05-08T11:16:21.145185",
     "status": "completed"
    },
    "tags": []
   },
   "outputs": [
    {
     "data": {
      "image/png": "[encoded data removed]",
      "text/plain": [
       "<Figure size 1000x600 with 1 Axes>"
      ]
     },
     "metadata": {},
     "output_type": "display_data"
    }
   ],
   "source": [
    "plot_nemenyi_posthoc_test(df, \"mcc_id\", \"net_payment_count\")"
   ]
  },
  {
   "cell_type": "markdown",
   "id": "38fa17a1",
   "metadata": {
    "papermill": {
     "duration": 0.036662,
     "end_time": "2024-05-08T11:16:23.850396",
     "exception": false,
     "start_time": "2024-05-08T11:16:23.813734",
     "status": "completed"
    },
    "tags": []
   },
   "source": [
    "## merchant_segment feature"
   ]
  },
  {
   "cell_type": "code",
   "execution_count": 54,
   "id": "086c956d",
   "metadata": {
    "execution": {
     "iopub.execute_input": "2024-05-08T11:16:23.925685Z",
     "iopub.status.busy": "2024-05-08T11:16:23.925362Z",
     "iopub.status.idle": "2024-05-08T11:16:23.950125Z",
     "shell.execute_reply": "2024-05-08T11:16:23.949287Z"
    },
    "papermill": {
     "duration": 0.064942,
     "end_time": "2024-05-08T11:16:23.952061",
     "exception": false,
     "start_time": "2024-05-08T11:16:23.887119",
     "status": "completed"
    },
    "tags": []
   },
   "outputs": [
    {
     "data": {
      "text/plain": [
       "count     342.000000\n",
       "mean      495.871345\n",
       "std       957.447098\n",
       "min         3.000000\n",
       "25%        54.000000\n",
       "50%       154.000000\n",
       "75%       543.000000\n",
       "max      7461.000000\n",
       "Name: net_payment_count, dtype: float64"
      ]
     },
     "execution_count": 54,
     "metadata": {},
     "output_type": "execute_result"
    }
   ],
   "source": [
    "#Separating the dataframe according to merchant_segment\n",
    "df_ms1 = df[df[\"merchant_segment\"] == 1]\n",
    "df_ms2 = df[df[\"merchant_segment\"] == 2]\n",
    "df_ms3 = df[df[\"merchant_segment\"] == 3]\n",
    "df_ms4 = df[df[\"merchant_segment\"] == 4]\n",
    "\n",
    "#Describe dataframe with merchant_segment number 1\n",
    "df_ms1[\"net_payment_count\"].describe()"
   ]
  },
  {
   "cell_type": "code",
   "execution_count": 55,
   "id": "e3da0313",
   "metadata": {
    "execution": {
     "iopub.execute_input": "2024-05-08T11:16:24.026928Z",
     "iopub.status.busy": "2024-05-08T11:16:24.026327Z",
     "iopub.status.idle": "2024-05-08T11:16:24.036104Z",
     "shell.execute_reply": "2024-05-08T11:16:24.035170Z"
    },
    "papermill": {
     "duration": 0.049346,
     "end_time": "2024-05-08T11:16:24.038240",
     "exception": false,
     "start_time": "2024-05-08T11:16:23.988894",
     "status": "completed"
    },
    "tags": []
   },
   "outputs": [
    {
     "data": {
      "text/plain": [
       "count    6.937000e+03\n",
       "mean     1.343469e+04\n",
       "std      6.728344e+04\n",
       "min     -1.433000e+03\n",
       "25%      2.400000e+01\n",
       "50%      7.830000e+02\n",
       "75%      3.739000e+03\n",
       "max      1.160429e+06\n",
       "Name: net_payment_count, dtype: float64"
      ]
     },
     "execution_count": 55,
     "metadata": {},
     "output_type": "execute_result"
    }
   ],
   "source": [
    "#Describe dataframe with merchant_segment number 2\n",
    "df_ms2[\"net_payment_count\"].describe()"
   ]
  },
  {
   "cell_type": "code",
   "execution_count": 56,
   "id": "1f617e43",
   "metadata": {
    "execution": {
     "iopub.execute_input": "2024-05-08T11:16:24.117142Z",
     "iopub.status.busy": "2024-05-08T11:16:24.116859Z",
     "iopub.status.idle": "2024-05-08T11:16:24.125805Z",
     "shell.execute_reply": "2024-05-08T11:16:24.124934Z"
    },
    "papermill": {
     "duration": 0.049246,
     "end_time": "2024-05-08T11:16:24.127809",
     "exception": false,
     "start_time": "2024-05-08T11:16:24.078563",
     "status": "completed"
    },
    "tags": []
   },
   "outputs": [
    {
     "data": {
      "text/plain": [
       "count      3662.000000\n",
       "mean       2899.031950\n",
       "std       17560.415154\n",
       "min        -112.000000\n",
       "25%          86.250000\n",
       "50%         357.000000\n",
       "75%         941.250000\n",
       "max      370127.000000\n",
       "Name: net_payment_count, dtype: float64"
      ]
     },
     "execution_count": 56,
     "metadata": {},
     "output_type": "execute_result"
    }
   ],
   "source": [
    "#Describe dataframe with merchant_segment number 3\n",
    "df_ms3[\"net_payment_count\"].describe()"
   ]
  },
  {
   "cell_type": "code",
   "execution_count": 57,
   "id": "10f31f68",
   "metadata": {
    "execution": {
     "iopub.execute_input": "2024-05-08T11:16:24.207451Z",
     "iopub.status.busy": "2024-05-08T11:16:24.206826Z",
     "iopub.status.idle": "2024-05-08T11:16:24.221555Z",
     "shell.execute_reply": "2024-05-08T11:16:24.220689Z"
    },
    "papermill": {
     "duration": 0.05484,
     "end_time": "2024-05-08T11:16:24.223428",
     "exception": false,
     "start_time": "2024-05-08T11:16:24.168588",
     "status": "completed"
    },
    "tags": []
   },
   "outputs": [
    {
     "data": {
      "text/plain": [
       "count    280201.000000\n",
       "mean         60.504834\n",
       "std        1078.905039\n",
       "min        -830.000000\n",
       "25%           4.000000\n",
       "50%           5.000000\n",
       "75%          13.000000\n",
       "max       87728.000000\n",
       "Name: net_payment_count, dtype: float64"
      ]
     },
     "execution_count": 57,
     "metadata": {},
     "output_type": "execute_result"
    }
   ],
   "source": [
    "#Describe dataframe with merchant_segment number 4\n",
    "df_ms4[\"net_payment_count\"].describe()"
   ]
  },
  {
   "cell_type": "code",
   "execution_count": 58,
   "id": "e5cb6ab9",
   "metadata": {
    "execution": {
     "iopub.execute_input": "2024-05-08T11:16:24.301585Z",
     "iopub.status.busy": "2024-05-08T11:16:24.301311Z",
     "iopub.status.idle": "2024-05-08T11:16:24.331100Z",
     "shell.execute_reply": "2024-05-08T11:16:24.330055Z"
    },
    "papermill": {
     "duration": 0.071511,
     "end_time": "2024-05-08T11:16:24.333186",
     "exception": false,
     "start_time": "2024-05-08T11:16:24.261675",
     "status": "completed"
    },
    "tags": []
   },
   "outputs": [
    {
     "name": "stdout",
     "output_type": "stream",
     "text": [
      "Kruskal-Wallis p-value: 0.0\n",
      "En azından bir grup farklı medyan değerine sahiptir\n"
     ]
    }
   ],
   "source": [
    "conduct_kruskal_wallis_test(df, \"merchant_segment\", \"net_payment_count\")"
   ]
  },
  {
   "cell_type": "code",
   "execution_count": 59,
   "id": "228a392e",
   "metadata": {
    "execution": {
     "iopub.execute_input": "2024-05-08T11:16:24.411000Z",
     "iopub.status.busy": "2024-05-08T11:16:24.410685Z",
     "iopub.status.idle": "2024-05-08T11:16:24.748896Z",
     "shell.execute_reply": "2024-05-08T11:16:24.747967Z"
    },
    "papermill": {
     "duration": 0.378929,
     "end_time": "2024-05-08T11:16:24.750851",
     "exception": false,
     "start_time": "2024-05-08T11:16:24.371922",
     "status": "completed"
    },
    "tags": []
   },
   "outputs": [
    {
     "data": {
      "image/png": "[encoded data removed]",
      "text/plain": [
       "<Figure size 1000x600 with 1 Axes>"
      ]
     },
     "metadata": {},
     "output_type": "display_data"
    }
   ],
   "source": [
    "plot_nemenyi_posthoc_test(df, \"merchant_segment\", \"net_payment_count\", False)"
   ]
  },
  {
   "cell_type": "markdown",
   "id": "b8e9bbc5",
   "metadata": {
    "papermill": {
     "duration": 0.038018,
     "end_time": "2024-05-08T11:16:24.827101",
     "exception": false,
     "start_time": "2024-05-08T11:16:24.789083",
     "status": "completed"
    },
    "tags": []
   },
   "source": [
    "- **4 numaralı segmentte bulunan kuruluşlar** diğer segmentteki kuruluşlarla net_payment_count özelliğine göre kıyaslandığında **anlamlı farklılıklar görülmektedir.**\n",
    "- Ayrıca **3 numaralı segment ile 2 numaralı segment'e ait kuruluşlar arasında da** anlamlı farklılıklar görülmektedir.\n",
    "- **1 numaralı segment**, 4 numaralı segment haricinde diğer segmentlerle benzer medyana sahiptir. \n",
    "\n",
    "Bu bilgiler ışığında 1 numaralı segment ile 2 numaralı segmenti birleştireceğim."
   ]
  },
  {
   "cell_type": "code",
   "execution_count": 60,
   "id": "2e7dba19",
   "metadata": {
    "execution": {
     "iopub.execute_input": "2024-05-08T11:16:24.904667Z",
     "iopub.status.busy": "2024-05-08T11:16:24.904352Z",
     "iopub.status.idle": "2024-05-08T11:16:24.910853Z",
     "shell.execute_reply": "2024-05-08T11:16:24.910111Z"
    },
    "papermill": {
     "duration": 0.047119,
     "end_time": "2024-05-08T11:16:24.912738",
     "exception": false,
     "start_time": "2024-05-08T11:16:24.865619",
     "status": "completed"
    },
    "tags": []
   },
   "outputs": [],
   "source": [
    "for dataframe in [df, df_sub]:\n",
    "    dataframe.loc[(dataframe[\"merchant_segment\"] == 1), \"merchant_segment\"] = 2"
   ]
  },
  {
   "cell_type": "markdown",
   "id": "04ee4b3b",
   "metadata": {
    "papermill": {
     "duration": 0.037481,
     "end_time": "2024-05-08T11:16:24.988257",
     "exception": false,
     "start_time": "2024-05-08T11:16:24.950776",
     "status": "completed"
    },
    "tags": []
   },
   "source": [
    "# Feature Engineering"
   ]
  },
  {
   "cell_type": "code",
   "execution_count": 61,
   "id": "12225ae7",
   "metadata": {
    "execution": {
     "iopub.execute_input": "2024-05-08T11:16:25.066598Z",
     "iopub.status.busy": "2024-05-08T11:16:25.066292Z",
     "iopub.status.idle": "2024-05-08T11:16:25.175083Z",
     "shell.execute_reply": "2024-05-08T11:16:25.174281Z"
    },
    "papermill": {
     "duration": 0.150992,
     "end_time": "2024-05-08T11:16:25.177253",
     "exception": false,
     "start_time": "2024-05-08T11:16:25.026261",
     "status": "completed"
    },
    "tags": []
   },
   "outputs": [],
   "source": [
    "if config.add_monthly_inflation_data:\n",
    "    #Add monthly inflation rate\n",
    "    dictionary = {\n",
    "        \n",
    "        2020: [1.35, 0.35, 0.57, 0.85, 1.36, 1.13, 0.58, 0.86, 0.97, 2.13, 2.30, 1.25],\n",
    "        2021: [1.68, 0.91, 1.08, 1.68, 0.89, 1.94, 1.80, 1.12, 1.25, 2.39, 3.51, 13.58],\n",
    "        2022: [11.10, 4.81, 5.46, 7.25, 2.98, 4.95, 2.37, 1.46, 3.08, 3.54, 2.88, 1.18],\n",
    "        2023: [6.65, 3.15, 2.29, 2.39, 0.04, 3.92, 9.49, 9.09, 4.75, 3.43, 13.28, 2.93]\n",
    "           \n",
    "           \n",
    "}   \n",
    "    df, df_sub = add_monthly_values(df, df_sub, \"monthly_inflation_rate\", dictionary)\n",
    "   \n",
    "    "
   ]
  },
  {
   "cell_type": "code",
   "execution_count": 62,
   "id": "bc92b96e",
   "metadata": {
    "execution": {
     "iopub.execute_input": "2024-05-08T11:16:25.258059Z",
     "iopub.status.busy": "2024-05-08T11:16:25.257781Z",
     "iopub.status.idle": "2024-05-08T11:16:25.263138Z",
     "shell.execute_reply": "2024-05-08T11:16:25.262296Z"
    },
    "papermill": {
     "duration": 0.046507,
     "end_time": "2024-05-08T11:16:25.265215",
     "exception": false,
     "start_time": "2024-05-08T11:16:25.218708",
     "status": "completed"
    },
    "tags": []
   },
   "outputs": [
    {
     "name": "stdout",
     "output_type": "stream",
     "text": [
      "CPU times: user 5 µs, sys: 1 µs, total: 6 µs\n",
      "Wall time: 9.06 µs\n"
     ]
    }
   ],
   "source": [
    "%%time\n",
    "if config.add_holidays:\n",
    "    for dataframe in [df, df_sub]:\n",
    "        dataframe = add_count_of_holidays(dataframe) "
   ]
  },
  {
   "cell_type": "code",
   "execution_count": 63,
   "id": "c9dbc009",
   "metadata": {
    "execution": {
     "iopub.execute_input": "2024-05-08T11:16:25.342459Z",
     "iopub.status.busy": "2024-05-08T11:16:25.341898Z",
     "iopub.status.idle": "2024-05-08T11:16:25.549053Z",
     "shell.execute_reply": "2024-05-08T11:16:25.548212Z"
    },
    "papermill": {
     "duration": 0.248261,
     "end_time": "2024-05-08T11:16:25.551310",
     "exception": false,
     "start_time": "2024-05-08T11:16:25.303049",
     "status": "completed"
    },
    "tags": []
   },
   "outputs": [],
   "source": [
    "if config.add_count_ofbreak_oniyzico:\n",
    "    df, df_sub = add_count_ofbreak_oniyzico(df, df_sub)"
   ]
  },
  {
   "cell_type": "code",
   "execution_count": 64,
   "id": "356716f2",
   "metadata": {
    "execution": {
     "iopub.execute_input": "2024-05-08T11:16:25.629344Z",
     "iopub.status.busy": "2024-05-08T11:16:25.628996Z",
     "iopub.status.idle": "2024-05-08T11:16:25.811621Z",
     "shell.execute_reply": "2024-05-08T11:16:25.810655Z"
    },
    "papermill": {
     "duration": 0.224153,
     "end_time": "2024-05-08T11:16:25.814003",
     "exception": false,
     "start_time": "2024-05-08T11:16:25.589850",
     "status": "completed"
    },
    "tags": []
   },
   "outputs": [],
   "source": [
    "if config.add_cumsum_merchant_id:\n",
    "    df, df_sub = add_cumsum_merchant_id(df, df_sub)"
   ]
  },
  {
   "cell_type": "code",
   "execution_count": 65,
   "id": "06f45091",
   "metadata": {
    "execution": {
     "iopub.execute_input": "2024-05-08T11:16:25.894361Z",
     "iopub.status.busy": "2024-05-08T11:16:25.894002Z",
     "iopub.status.idle": "2024-05-08T11:16:25.898360Z",
     "shell.execute_reply": "2024-05-08T11:16:25.897480Z"
    },
    "papermill": {
     "duration": 0.046601,
     "end_time": "2024-05-08T11:16:25.900580",
     "exception": false,
     "start_time": "2024-05-08T11:16:25.853979",
     "status": "completed"
    },
    "tags": []
   },
   "outputs": [],
   "source": [
    "if config.add_is_once_insysyem:\n",
    "    df, df_sub = add_is_once_insysyem(df, df_sub)"
   ]
  },
  {
   "cell_type": "code",
   "execution_count": 66,
   "id": "ed6bce68",
   "metadata": {
    "execution": {
     "iopub.execute_input": "2024-05-08T11:16:25.979068Z",
     "iopub.status.busy": "2024-05-08T11:16:25.978810Z",
     "iopub.status.idle": "2024-05-08T11:16:26.086613Z",
     "shell.execute_reply": "2024-05-08T11:16:26.085574Z"
    },
    "papermill": {
     "duration": 0.149031,
     "end_time": "2024-05-08T11:16:26.089179",
     "exception": false,
     "start_time": "2024-05-08T11:16:25.940148",
     "status": "completed"
    },
    "tags": []
   },
   "outputs": [],
   "source": [
    "if config.add_monthly_average_temperature_values:\n",
    "    \n",
    "    #Add monthly average temperature values\n",
    "    dictionary = {\n",
    "        \n",
    "        2020: [3.3, 4.9, 9.5, 12.1, 17.6, 21.7, 25.9, 25.2, 23.9, 18.4, 9.6, 7.2],\n",
    "        2021: [5.4, 6.2, 7, 13.4, 19.3, 21.8, 26.3, 26, 20.5, 15.1, 11.4, 6],\n",
    "        2022: [1.8, 5, 3.7, 14.1, 16.5, 22, 24.6, 26.1, 21.5, 15.9, 11, 7.6],\n",
    "        2023: [5.3, 3.4, 9.8, 12.3, 16.4, 21.4, 25.7, 27.1, 22.4, 17.1, 12.5, 8.3]\n",
    "           \n",
    "           \n",
    "}   \n",
    "    df, df_sub = add_monthly_values(df, df_sub, \"monthly_average_temperature_values\", dictionary)\n",
    "   "
   ]
  },
  {
   "cell_type": "code",
   "execution_count": 67,
   "id": "c5a0d818",
   "metadata": {
    "execution": {
     "iopub.execute_input": "2024-05-08T11:16:26.170684Z",
     "iopub.status.busy": "2024-05-08T11:16:26.170362Z",
     "iopub.status.idle": "2024-05-08T11:16:26.177115Z",
     "shell.execute_reply": "2024-05-08T11:16:26.176184Z"
    },
    "papermill": {
     "duration": 0.048269,
     "end_time": "2024-05-08T11:16:26.179150",
     "exception": false,
     "start_time": "2024-05-08T11:16:26.130881",
     "status": "completed"
    },
    "tags": []
   },
   "outputs": [],
   "source": [
    "if config.add_quarter:\n",
    "    df.loc[df[\"month\"].isin([12, 1, 2]), \"quarter\"]  = 1\n",
    "    df.loc[df[\"month\"].isin([3, 4, 5]), \"quarter\"]   = 2\n",
    "    df.loc[df[\"month\"].isin([6, 7, 8]), \"quarter\"]   = 3\n",
    "    df.loc[df[\"month\"].isin([9, 10, 11]), \"quarter\"] = 4\n",
    "    \n",
    "    df_sub.loc[df_sub[\"month\"].isin([10,11]), \"quarter\"] = 4\n",
    "    df_sub.loc[df_sub[\"month\"].isin([12]), \"quarter\"]    = 1"
   ]
  },
  {
   "cell_type": "code",
   "execution_count": 68,
   "id": "92ca29ea",
   "metadata": {
    "execution": {
     "iopub.execute_input": "2024-05-08T11:16:26.258613Z",
     "iopub.status.busy": "2024-05-08T11:16:26.258304Z",
     "iopub.status.idle": "2024-05-08T11:16:26.263245Z",
     "shell.execute_reply": "2024-05-08T11:16:26.262423Z"
    },
    "papermill": {
     "duration": 0.046996,
     "end_time": "2024-05-08T11:16:26.265352",
     "exception": false,
     "start_time": "2024-05-08T11:16:26.218356",
     "status": "completed"
    },
    "tags": []
   },
   "outputs": [],
   "source": [
    "if config.add_seasonality_feature:\n",
    "    for dataframe in [df, df_sub]:\n",
    "        dataframe[\"month_sin\"] = np.sin(2*np.pi*dataframe.month/12)\n",
    "        dataframe[\"month_cos\"] = np.cos(2*np.pi*dataframe.month/12)"
   ]
  },
  {
   "cell_type": "code",
   "execution_count": 69,
   "id": "c73a6072",
   "metadata": {
    "execution": {
     "iopub.execute_input": "2024-05-08T11:16:26.342440Z",
     "iopub.status.busy": "2024-05-08T11:16:26.342120Z",
     "iopub.status.idle": "2024-05-08T11:16:26.348181Z",
     "shell.execute_reply": "2024-05-08T11:16:26.347305Z"
    },
    "papermill": {
     "duration": 0.046908,
     "end_time": "2024-05-08T11:16:26.350068",
     "exception": false,
     "start_time": "2024-05-08T11:16:26.303160",
     "status": "completed"
    },
    "tags": []
   },
   "outputs": [],
   "source": [
    "if config.use_one_hot_encoder_technique:\n",
    "    features_one_hot_encoder = [\"merchant_source_name\", \"settlement_period\", \"working_type\", \"merchant_segment\"]\n",
    "    for feature in features_one_hot_encoder:\n",
    "       \n",
    "        df_one_hot_encoder = pd.get_dummies(df[feature], prefix = feature, prefix_sep = \"_\")\n",
    "        df = pd.concat([df.drop(feature, axis = 1), df_one_hot_encoder], axis = 1)\n",
    "        \n",
    "        df_sub_one_hot_encoder = pd.get_dummies(df_sub[feature], prefix = feature, prefix_sep = \"_\")\n",
    "        df_sub = pd.concat([df_sub.drop(feature, axis = 1), df_sub_one_hot_encoder], axis = 1)\n",
    "        "
   ]
  },
  {
   "cell_type": "code",
   "execution_count": 70,
   "id": "4ec3a5b1",
   "metadata": {
    "execution": {
     "iopub.execute_input": "2024-05-08T11:16:26.428776Z",
     "iopub.status.busy": "2024-05-08T11:16:26.428447Z",
     "iopub.status.idle": "2024-05-08T11:16:26.532531Z",
     "shell.execute_reply": "2024-05-08T11:16:26.531762Z"
    },
    "papermill": {
     "duration": 0.145949,
     "end_time": "2024-05-08T11:16:26.534745",
     "exception": false,
     "start_time": "2024-05-08T11:16:26.388796",
     "status": "completed"
    },
    "tags": []
   },
   "outputs": [],
   "source": [
    "if config.add_oil_prices:\n",
    "    #Add monthly oil prices\n",
    "    dictionary = {\n",
    "        \n",
    "        2020: [7.11, 6.83, 5.63, 5.24, 5.55, 6.15, 6.41, 6.64, 6.59, 6.89, 6.69, 7.22],\n",
    "        2021: [7.28, 7.32, 7.13, 7.15, 7.76, 7.80, 7.82, 7.82, 7.85, 7.99, 8.18, 10.98],\n",
    "        2022: [13.64, 15.29, 20.48, 19.10, 22.93, 27.55, 23.76, 21.26, 19.34, 20.77, 22.84, 18.70],\n",
    "        2023: [20.61, 21.14, 20.88, 22.82, 20.17, 24.42, 28.53, 38.15, 39.08, 34.20, 35.14, 33.68]\n",
    "           \n",
    "}   \n",
    "    df, df_sub = add_monthly_values(df, df_sub, \"monthly_average_oil_prices\", dictionary)"
   ]
  },
  {
   "cell_type": "markdown",
   "id": "cf27ec49",
   "metadata": {
    "papermill": {
     "duration": 0.0378,
     "end_time": "2024-05-08T11:16:26.613150",
     "exception": false,
     "start_time": "2024-05-08T11:16:26.575350",
     "status": "completed"
    },
    "tags": []
   },
   "source": [
    "Net işlem sayısına ilişkin verilerin gecikmeli değerlerini de veri setine ekliyoruz. Aşırı öğrenmenin önüne geçmek adına random_noise fonksyonu ile gecikmeli verilere rastgele gürültü ekliyoruz."
   ]
  },
  {
   "cell_type": "code",
   "execution_count": 71,
   "id": "8251175c",
   "metadata": {
    "execution": {
     "iopub.execute_input": "2024-05-08T11:16:26.691394Z",
     "iopub.status.busy": "2024-05-08T11:16:26.690599Z",
     "iopub.status.idle": "2024-05-08T11:16:26.698348Z",
     "shell.execute_reply": "2024-05-08T11:16:26.697477Z"
    },
    "papermill": {
     "duration": 0.048745,
     "end_time": "2024-05-08T11:16:26.700247",
     "exception": false,
     "start_time": "2024-05-08T11:16:26.651502",
     "status": "completed"
    },
    "tags": []
   },
   "outputs": [],
   "source": [
    "if config.add_lag_fetures:\n",
    "    def random_noise(dataframe):\n",
    "        return np.random.normal(scale=1.6, size=(len(dataframe),))\n",
    "\n",
    "\n",
    "    def lag_features(dataframe, lags):\n",
    "        for lag in lags:\n",
    "            dataframe[\"net_payment_count_lag_\" + str(lag)] = dataframe[[\"mcc_id\", \"net_payment_count\"]].groupby(\"mcc_id\")[\"net_payment_count\"].transform(\n",
    "                lambda x: x.shift(lag)) + random_noise(dataframe)\n",
    "        return dataframe\n",
    "   \n",
    "    df_ = pd.concat([df, df_sub], axis = 0).copy()\n",
    "    df_ = lag_features(df_, [91, 120, 152, 182, 242, 402, 542, 722])\n",
    "\n",
    "    df = df_[df_[\"type_dataframe\"] == \"train\"].copy()\n",
    "    df_sub = df_[df_[\"type_dataframe\"] == \"submission\"].copy()"
   ]
  },
  {
   "cell_type": "code",
   "execution_count": 72,
   "id": "9dea0a87",
   "metadata": {
    "execution": {
     "iopub.execute_input": "2024-05-08T11:16:26.781689Z",
     "iopub.status.busy": "2024-05-08T11:16:26.781080Z",
     "iopub.status.idle": "2024-05-08T11:16:27.515029Z",
     "shell.execute_reply": "2024-05-08T11:16:27.514050Z"
    },
    "papermill": {
     "duration": 0.777702,
     "end_time": "2024-05-08T11:16:27.517445",
     "exception": false,
     "start_time": "2024-05-08T11:16:26.739743",
     "status": "completed"
    },
    "tags": []
   },
   "outputs": [],
   "source": [
    "if config.add_roll_mean_features:\n",
    "\n",
    "    def roll_mean_features(dataframe, windows):\n",
    "        for window in windows:\n",
    "            dataframe['net_payment_count_roll_mean_' + str(window)] = dataframe.groupby([\"mcc_id\"])['net_payment_count']. \\\n",
    "                                                              transform(\n",
    "                lambda x: x.shift(1).rolling(window=window, min_periods=10).mean())\n",
    "        return dataframe\n",
    "\n",
    "    df_ = pd.concat([df, df_sub], axis = 0).copy()\n",
    "    df_ = roll_mean_features(df_, [91, 120, 182, 402])\n",
    "\n",
    "    df = df_[df_[\"type_dataframe\"] == \"train\"].copy()\n",
    "    df_sub = df_[df_[\"type_dataframe\"] == \"submission\"].copy()\n",
    "\n",
    "\n",
    "if config.add_ewm_features:\n",
    "    def ewm_features(dataframe, alphas, lags):\n",
    "        for alpha in alphas:\n",
    "            for lag in lags:\n",
    "                dataframe['net_payment_count_ewm_alpha_' + str(alpha).replace(\".\", \"\") + \"_lag_\" + str(lag)] = \\\n",
    "                    dataframe.groupby(\"mcc_id\")['net_payment_count'].transform(lambda x: x.shift(lag).ewm(alpha=alpha).mean())\n",
    "        return dataframe\n",
    "\n",
    "\n",
    "    alphas = [0.7, 0.5]\n",
    "    lags = [91, 120, 152, 182, 242, 402, 542, 722]\n",
    "\n",
    "    df_ = pd.concat([df, df_sub], axis = 0).copy()\n",
    "    df_ = ewm_features(df_, alphas, lags)\n",
    "\n",
    "    df = df_[df_[\"type_dataframe\"] == \"train\"].copy()\n",
    "    df_sub = df_[df_[\"type_dataframe\"] == \"submission\"].copy()"
   ]
  },
  {
   "cell_type": "code",
   "execution_count": 73,
   "id": "22236bea",
   "metadata": {
    "execution": {
     "iopub.execute_input": "2024-05-08T11:16:27.599964Z",
     "iopub.status.busy": "2024-05-08T11:16:27.599340Z",
     "iopub.status.idle": "2024-05-08T11:16:34.571546Z",
     "shell.execute_reply": "2024-05-08T11:16:34.570689Z"
    },
    "papermill": {
     "duration": 7.014944,
     "end_time": "2024-05-08T11:16:34.574049",
     "exception": false,
     "start_time": "2024-05-08T11:16:27.559105",
     "status": "completed"
    },
    "tags": []
   },
   "outputs": [],
   "source": [
    "if config.add_statisctic_metrics:\n",
    "    stat_methods = [\"sum\", \"min\", \"max\", \"median\", \"mean\", \"std\"]\n",
    "    for method in stat_methods:\n",
    "        df[f\"{method}_net_payment_count_by_mcc_id\"] = df.groupby(\"mcc_id\")[\"net_payment_count\"].transform(method)\n",
    "    for value_mcc_id in df_sub.mcc_id.unique():\n",
    "        df_sub.loc[df_sub[\"mcc_id\"] == value_mcc_id,f\"sum_net_payment_count_by_mcc_id\"] = df.groupby(\"mcc_id\")[\"net_payment_count\"].sum()[value_mcc_id]\n",
    "        df_sub.loc[df_sub[\"mcc_id\"] == value_mcc_id,f\"min_net_payment_count_by_mcc_id\"] = df.groupby(\"mcc_id\")[\"net_payment_count\"].min()[value_mcc_id]\n",
    "        df_sub.loc[df_sub[\"mcc_id\"] == value_mcc_id,f\"max_net_payment_count_by_mcc_id\"] = df.groupby(\"mcc_id\")[\"net_payment_count\"].max()[value_mcc_id]\n",
    "        df_sub.loc[df_sub[\"mcc_id\"] == value_mcc_id,f\"median_net_payment_count_by_mcc_id\"] = df.groupby(\"mcc_id\")[\"net_payment_count\"].median()[value_mcc_id]\n",
    "        df_sub.loc[df_sub[\"mcc_id\"] == value_mcc_id,f\"mean_net_payment_count_by_mcc_id\"] = df.groupby(\"mcc_id\")[\"net_payment_count\"].mean()[value_mcc_id]\n",
    "        df_sub.loc[df_sub[\"mcc_id\"] == value_mcc_id,f\"std_net_payment_count_by_mcc_id\"] = df.groupby(\"mcc_id\")[\"net_payment_count\"].std()[value_mcc_id]\n",
    "    \n",
    "if config.add_quantiles:\n",
    "    df[\"q10_net_payment_count_by_mcc_id\"] = df.groupby(\"mcc_id\")[\"net_payment_count\"].quantile(q=0.10)\n",
    "    df[\"q25_net_payment_count_by_mcc_id\"] = df.groupby(\"mcc_id\")[\"net_payment_count\"].quantile(q=0.25)\n",
    "    df[\"q75_net_payment_count_by_mcc_id\"] = df.groupby(\"mcc_id\")[\"net_payment_count\"].quantile(q=0.75)\n",
    "    df[\"q90_net_payment_count_by_mcc_id\"] = df.groupby(\"mcc_id\")[\"net_payment_count\"].quantile(q=0.90)\n",
    "    \n",
    "    for value_mcc_id in df_sub.mcc_id.unique():\n",
    "        df_sub.loc[df_sub[\"mcc_id\"] == value_mcc_id,f\"q10_net_payment_count_by_mcc_id\"] = df.groupby(\"mcc_id\")[\"net_payment_count\"].quantile(q=0.10)[value_mcc_id]\n",
    "        df_sub.loc[df_sub[\"mcc_id\"] == value_mcc_id,f\"q25_net_payment_count_by_mcc_id\"] = df.groupby(\"mcc_id\")[\"net_payment_count\"].quantile(q=0.25)[value_mcc_id]\n",
    "        df_sub.loc[df_sub[\"mcc_id\"] == value_mcc_id,f\"q75_net_payment_count_by_mcc_id\"] = df.groupby(\"mcc_id\")[\"net_payment_count\"].quantile(q=0.75)[value_mcc_id]\n",
    "        df_sub.loc[df_sub[\"mcc_id\"] == value_mcc_id,f\"q90_net_payment_count_by_mcc_id\"] = df.groupby(\"mcc_id\")[\"net_payment_count\"].quantile(q=0.90)[value_mcc_id]\n",
    "\n"
   ]
  },
  {
   "cell_type": "code",
   "execution_count": 74,
   "id": "ed12ce72",
   "metadata": {
    "execution": {
     "iopub.execute_input": "2024-05-08T11:16:34.654688Z",
     "iopub.status.busy": "2024-05-08T11:16:34.654342Z",
     "iopub.status.idle": "2024-05-08T11:16:35.725894Z",
     "shell.execute_reply": "2024-05-08T11:16:35.725076Z"
    },
    "papermill": {
     "duration": 1.114532,
     "end_time": "2024-05-08T11:16:35.728114",
     "exception": false,
     "start_time": "2024-05-08T11:16:34.613582",
     "status": "completed"
    },
    "tags": []
   },
   "outputs": [],
   "source": [
    "if config.add_frequences:\n",
    "    df_ = pd.concat([df, df_sub], axis = 0).copy()\n",
    "    merchant_segment_dict = dict(df_[\"merchant_segment\"].value_counts(True) * 100)\n",
    "    working_type_dict = dict(df_['working_type'].value_counts(True) * 100)\n",
    "    settlement_period_dict = dict(df_[\"settlement_period\"].value_counts(True) * 100)\n",
    "    merchant_source_name_dict = dict(df_['merchant_source_name'].value_counts(True) * 100)\n",
    "    \n",
    "    df_[\"merchant_segment_frequence\"] = df_[\"merchant_segment\"].apply(lambda x:merchant_segment_dict[x])\n",
    "    df_[\"working_type_frequence\"] = df_[\"working_type\"].apply(lambda x:working_type_dict[x])\n",
    "    df_[\"settlement_period_frequence\"] = df_[\"settlement_period\"].apply(lambda x:settlement_period_dict[x])\n",
    "    df_[\"merchant_source_name_frequence\"] = df_[\"merchant_source_name\"].apply(lambda x:merchant_source_name_dict[x])\n",
    "    \n",
    "    df = df_[df_[\"type_dataframe\"] == \"train\"].copy()\n",
    "    df_sub = df_[df_[\"type_dataframe\"] == \"submission\"].copy()"
   ]
  },
  {
   "cell_type": "code",
   "execution_count": 75,
   "id": "aad4e6b5",
   "metadata": {
    "execution": {
     "iopub.execute_input": "2024-05-08T11:16:35.806739Z",
     "iopub.status.busy": "2024-05-08T11:16:35.806424Z",
     "iopub.status.idle": "2024-05-08T11:16:35.911856Z",
     "shell.execute_reply": "2024-05-08T11:16:35.911029Z"
    },
    "papermill": {
     "duration": 0.146936,
     "end_time": "2024-05-08T11:16:35.914098",
     "exception": false,
     "start_time": "2024-05-08T11:16:35.767162",
     "status": "completed"
    },
    "tags": []
   },
   "outputs": [],
   "source": [
    "if config.add_payU_stock:\n",
    "    \n",
    "    dictionary = {\n",
    "        \n",
    "        2020: [1088, 953, 600, 554, 634, 690, 589, 659, 625, 538, 580, 615],\n",
    "        2021: [621, 590, 588, 631, 583, 599, 588, 660, 690, 707, 665, 615],\n",
    "        2022: [686, 630, 580, 583, 579, 600, 588, 630, 605, 584, 545, 483],\n",
    "        2023: [520, 495, 463, 452, 425, 452, 453, 545, 555, 525, 545, 485]\n",
    "           \n",
    "           \n",
    "}   \n",
    "    df, df_sub = add_monthly_values(df, df_sub, \"payU_stock\", dictionary)"
   ]
  },
  {
   "cell_type": "markdown",
   "id": "96cfc1e7",
   "metadata": {
    "papermill": {
     "duration": 0.039371,
     "end_time": "2024-05-08T11:16:35.992516",
     "exception": false,
     "start_time": "2024-05-08T11:16:35.953145",
     "status": "completed"
    },
    "tags": []
   },
   "source": [
    "# Modeling"
   ]
  },
  {
   "cell_type": "code",
   "execution_count": 76,
   "id": "1e620470",
   "metadata": {
    "execution": {
     "iopub.execute_input": "2024-05-08T11:16:36.072033Z",
     "iopub.status.busy": "2024-05-08T11:16:36.071677Z",
     "iopub.status.idle": "2024-05-08T11:16:36.397356Z",
     "shell.execute_reply": "2024-05-08T11:16:36.396060Z"
    },
    "papermill": {
     "duration": 0.367972,
     "end_time": "2024-05-08T11:16:36.399869",
     "exception": false,
     "start_time": "2024-05-08T11:16:36.031897",
     "status": "completed"
    },
    "tags": []
   },
   "outputs": [],
   "source": [
    "#Specify categorical features\n",
    "categorical_features = df.columns[(df.columns.str.contains(\"merchant_source_name|settlement_period|working_type|merchant_segment\"))& \\\n",
    "                                 (~df.columns.str.contains(\"frequence\"))].to_list() + \\\n",
    "                                 [\"merchant_id\", \"year\", \"month\", \"mcc_id\"]\n",
    "\n",
    "if config.add_is_once_insysyem:\n",
    "    categorical_features.append(\"is_once_insystem\")\n",
    "\n",
    "if config.add_quarter:\n",
    "     categorical_features.append(\"quarter\")\n",
    "\n",
    "#Specify numerical features\n",
    "numerical_features = [feature for feature in df.select_dtypes(include=[\"int\", \"float\"]) if not feature in categorical_features and not feature == \"net_payment_count\"]\n",
    "standart_Scaler = StandardScaler()\n",
    "\n",
    "for dataframe in [df, df_sub]:\n",
    "    dataframe[categorical_features] = dataframe[categorical_features].astype(\"category\")\n",
    "    dataframe[numerical_features] = standart_Scaler.fit_transform(dataframe[numerical_features])\n"
   ]
  },
  {
   "cell_type": "markdown",
   "id": "7be85fba",
   "metadata": {
    "papermill": {
     "duration": 0.038201,
     "end_time": "2024-05-08T11:16:36.477243",
     "exception": false,
     "start_time": "2024-05-08T11:16:36.439042",
     "status": "completed"
    },
    "tags": []
   },
   "source": [
    "## Hyperparameter Tuning\n"
   ]
  },
  {
   "cell_type": "code",
   "execution_count": 77,
   "id": "e52c4f35",
   "metadata": {
    "execution": {
     "iopub.execute_input": "2024-05-08T11:16:36.555006Z",
     "iopub.status.busy": "2024-05-08T11:16:36.554414Z",
     "iopub.status.idle": "2024-05-08T11:16:36.564813Z",
     "shell.execute_reply": "2024-05-08T11:16:36.563900Z"
    },
    "papermill": {
     "duration": 0.052033,
     "end_time": "2024-05-08T11:16:36.567109",
     "exception": false,
     "start_time": "2024-05-08T11:16:36.515076",
     "status": "completed"
    },
    "tags": []
   },
   "outputs": [
    {
     "name": "stdout",
     "output_type": "stream",
     "text": [
      "CPU times: user 5 µs, sys: 1 µs, total: 6 µs\n",
      "Wall time: 9.54 µs\n"
     ]
    }
   ],
   "source": [
    "%%time\n",
    "if config.use_hyperparameter_tuning_technique:\n",
    "    from sklearn.model_selection import GridSearchCV\n",
    "\n",
    "    X, y = df.drop(\"net_payment_count\", axis = 1), df[\"net_payment_count\"]\n",
    "    feature_list = X.select_dtypes(include = [\"int\", \"float\"]).columns\n",
    "    cv = TimeSeriesSplit(config.n_splits)\n",
    "    param_catboost = {\n",
    "                        \"iterations\": 5000,\n",
    "                        \"random_state\": config.seed, # Set a random state for reproducibility\n",
    "                        \"border_count\": 254,\n",
    "                        \"allow_writing_files\": False\n",
    "    }\n",
    "\n",
    "    param_xgb = {\n",
    "\n",
    "                        \"enable_categorical\":True,\n",
    "                        \"objective\": \"reg:absoluteerror\",\n",
    "                        \"tree_method\": \"hist\", \n",
    "                        \"random_state\": config.seed,  # Set a random state for reproducibility\n",
    "                       \n",
    "    }\n",
    "\n",
    "    model_XGBRegressor = XGBRegressor(**param_xgb)\n",
    "    model_CatBoostRegressor = CatBoostRegressor(**param_catboost)\n",
    "\n",
    "    grid_param_xgb = {\n",
    "                        \"learning_rate\" : [0.01, 0.05, 0.1],\n",
    "                        \"n_estimators\"  : [100, 200, 500, 1000],\n",
    "                        \"max_depth\"     : [6, 8, 10]\n",
    "\n",
    "    }\n",
    "\n",
    "    grid_param_catboost = {\n",
    "                        \"learning_rate\" : [0.003, 0.03, 0.1],\n",
    "                        \"depth\"     : [6, 8, 10]\n",
    "\n",
    "    }\n",
    "\n",
    "    for model, grid_param in [[model_XGBRegressor, grid_param_xgb], [model_CatBoostRegressor, grid_param_catboost]]:\n",
    "        print(f\"Model:{model}\")\n",
    "        print(f\"Tested parameters: {grid_param}]\")\n",
    "\n",
    "        # Perform grid search with TimeSeriesSplit\n",
    "        grid_search = GridSearchCV(estimator=model, param_grid=grid_param, cv=cv, scoring=\"neg_mean_absolute_error\")\n",
    "\n",
    "        grid_search.fit(X[feature_list], y, verbose = 500)\n",
    "\n",
    "\n",
    "        # Print the best parameters and best score\n",
    "        print(f\"Best Parameters for {model}:\", grid_search.best_params_)\n",
    "        print(f\"Best Score for {model}:\", grid_search.best_score_)\n",
    "        print(\"*\"*120)\n"
   ]
  },
  {
   "cell_type": "code",
   "execution_count": 78,
   "id": "60c0fe2b",
   "metadata": {
    "execution": {
     "iopub.execute_input": "2024-05-08T11:16:36.644881Z",
     "iopub.status.busy": "2024-05-08T11:16:36.644545Z",
     "iopub.status.idle": "2024-05-08T11:16:36.654779Z",
     "shell.execute_reply": "2024-05-08T11:16:36.653848Z"
    },
    "papermill": {
     "duration": 0.052086,
     "end_time": "2024-05-08T11:16:36.656866",
     "exception": false,
     "start_time": "2024-05-08T11:16:36.604780",
     "status": "completed"
    },
    "tags": []
   },
   "outputs": [],
   "source": [
    "param_catboost = {\n",
    "                    \"one_hot_max_size\": 120,\n",
    "                    \"cat_features\": categorical_features,\n",
    "                    \"learning_rate\": 0.1,\n",
    "                    \"iterations\": 5000,\n",
    "                    \"random_state\": config.seed, # Set a random state for reproducibility\n",
    "                    \"eval_metric\": \"MAE\",\n",
    "                    #\"loss_function\":\"RMSE\",\n",
    "                    \"depth\": 10,\n",
    "                    \"border_count\": 254,\n",
    "                    \"allow_writing_files\": False,\n",
    "                    \"use_best_model\": True,\n",
    "                    \"early_stopping_rounds\":500\n",
    "}\n",
    "param_xgb = {\n",
    "                    \"learning_rate\": 0.01,\n",
    "                    \"n_estimators\": 200,\n",
    "                    \"max_depth\": 6,\n",
    "                    \"enable_categorical\":True,\n",
    "                    \"objective\": \"reg:absoluteerror\",\n",
    "                    \"tree_method\": \"hist\", \n",
    "                    #\"device\": \"cuda\",             # GPU acceleration\n",
    "                    \"random_state\": config.seed,  # Set a random state for reproducibility\n",
    "                    \"eval_metric\": \"mae\",\n",
    "                    \"early_stopping_rounds\": 500\n",
    "}\n",
    "\n",
    "predicters= {\n",
    "    \"XGBRegressor\" : XGBRegressor(**param_xgb),\n",
    "    \"CatBoostRegressor\" : CatBoostRegressor(**param_catboost)\n",
    "\n",
    "}"
   ]
  },
  {
   "cell_type": "code",
   "execution_count": 79,
   "id": "bcc8d1b9",
   "metadata": {
    "execution": {
     "iopub.execute_input": "2024-05-08T11:16:36.742213Z",
     "iopub.status.busy": "2024-05-08T11:16:36.741585Z",
     "iopub.status.idle": "2024-05-08T11:16:36.754605Z",
     "shell.execute_reply": "2024-05-08T11:16:36.753624Z"
    },
    "papermill": {
     "duration": 0.060918,
     "end_time": "2024-05-08T11:16:36.756926",
     "exception": false,
     "start_time": "2024-05-08T11:16:36.696008",
     "status": "completed"
    },
    "tags": []
   },
   "outputs": [],
   "source": [
    "def create_model(\n",
    "                X: pd.DataFrame,\n",
    "                y: pd.Series,\n",
    "                cv: TimeSeriesSplit,\n",
    "                predicters: dict,\n",
    "                feature_list: list\n",
    "):\n",
    "    mean_absolute_error_scores = list()\n",
    "    models = list()\n",
    "    unseen_preds = list()\n",
    "    for name, model in predicters.items():\n",
    "        print(f\"Evaluating {name}...\")\n",
    "        fold_mae_scores = list()\n",
    "        elapsed_time = 0\n",
    "        for idx, (train_idx, val_idx) in enumerate(cv.split(X=X, y = y)):\n",
    "            start_time = time.time()\n",
    "\n",
    "            X_train = X.loc[train_idx, feature_list].copy()\n",
    "            y_train = y.loc[train_idx].copy()\n",
    "            X_val = X.loc[val_idx, feature_list].copy()\n",
    "            y_val = y.loc[val_idx].copy()\n",
    "            print(f\"train_idx: {train_idx}\")\n",
    "            print(f\"val_idx: {val_idx}\")\n",
    "            print(f'train: {X_train.shape}')\n",
    "            print(f'val: {X_val.shape}')\n",
    "\n",
    "            model.fit(X_train,\n",
    "                        y_train,\n",
    "                        eval_set=[(X_val, y_val)],\n",
    "\n",
    "                        verbose=250)\n",
    "            val_pred = model.predict(X_val)\n",
    "            unseen_preds.append(val_pred)\n",
    "            \n",
    "            fold_mae_score = mean_absolute_error(y_true = y_val, y_pred = val_pred)\n",
    "            print(f\"\\n{name} Model Fold {idx + 1} Mean Absolute Error:{fold_mae_score}\")\n",
    "\n",
    "\n",
    "            fold_mae_scores.append(fold_mae_score)\n",
    "\n",
    "            #model_file_path = f\"{name}_fold_{idx + 1}.pkl\"\n",
    "            #joblib.dump(model, os.path.join(config.model_path, model_file_path))\n",
    "            models.append(model)\n",
    "\n",
    "            end_time = time.time()\n",
    "            elapsed = end_time - start_time\n",
    "            print(f\"Time to {name} Model for Fold {idx + 1}: {elapsed}\")\n",
    "            print(\"*\"*120)\n",
    "\n",
    "            elapsed_time += elapsed\n",
    "\n",
    "        print(f\"{name} model run time is : {elapsed_time} seconds\")\n",
    "        print(f\"{name} model has a mean of Mean Absolute Error Score: {np.mean(fold_mae_scores)}\")\n",
    "        print(\"*\"*120)\n",
    "\n",
    "        mean_absolute_error_scores.append(fold_mae_scores)\n",
    "\n",
    "    return mean_absolute_error_scores, models, unseen_preds"
   ]
  },
  {
   "cell_type": "code",
   "execution_count": 80,
   "id": "6f39bf99",
   "metadata": {
    "execution": {
     "iopub.execute_input": "2024-05-08T11:16:36.848361Z",
     "iopub.status.busy": "2024-05-08T11:16:36.847638Z",
     "iopub.status.idle": "2024-05-08T11:28:02.381641Z",
     "shell.execute_reply": "2024-05-08T11:28:02.380508Z"
    },
    "papermill": {
     "duration": 685.582197,
     "end_time": "2024-05-08T11:28:02.383643",
     "exception": false,
     "start_time": "2024-05-08T11:16:36.801446",
     "status": "completed"
    },
    "tags": []
   },
   "outputs": [
    {
     "name": "stdout",
     "output_type": "stream",
     "text": [
      "Evaluating XGBRegressor...\n",
      "train_idx: [    0     1     2 ... 48524 48525 48526]\n",
      "val_idx: [48527 48528 48529 ... 97047 97048 97049]\n",
      "train: (48527, 28)\n",
      "val: (48523, 28)\n",
      "[0]\tvalidation_0-mae:360.64900\n",
      "[199]\tvalidation_0-mae:332.04199\n",
      "\n",
      "XGBRegressor Model Fold 1 Mean Absolute Error:332.20793559465164\n",
      "Time to XGBRegressor Model for Fold 1: 15.282742500305176\n",
      "************************************************************************************************************************\n",
      "train_idx: [    0     1     2 ... 97047 97048 97049]\n",
      "val_idx: [ 97050  97051  97052 ... 145570 145571 145572]\n",
      "train: (97050, 28)\n",
      "val: (48523, 28)\n",
      "[0]\tvalidation_0-mae:401.64186\n",
      "[199]\tvalidation_0-mae:372.88090\n",
      "\n",
      "XGBRegressor Model Fold 2 Mean Absolute Error:372.8809046002622\n",
      "Time to XGBRegressor Model for Fold 2: 20.533008813858032\n",
      "************************************************************************************************************************\n",
      "train_idx: [     0      1      2 ... 145570 145571 145572]\n",
      "val_idx: [145573 145574 145575 ... 194093 194094 194095]\n",
      "train: (145573, 28)\n",
      "val: (48523, 28)\n",
      "[0]\tvalidation_0-mae:447.40004\n",
      "[199]\tvalidation_0-mae:402.84724\n",
      "\n",
      "XGBRegressor Model Fold 3 Mean Absolute Error:402.84724396171293\n",
      "Time to XGBRegressor Model for Fold 3: 24.86724352836609\n",
      "************************************************************************************************************************\n",
      "train_idx: [     0      1      2 ... 194093 194094 194095]\n",
      "val_idx: [194096 194097 194098 ... 242616 242617 242618]\n",
      "train: (194096, 28)\n",
      "val: (48523, 28)\n",
      "[0]\tvalidation_0-mae:470.80132\n",
      "[199]\tvalidation_0-mae:415.23750\n",
      "\n",
      "XGBRegressor Model Fold 4 Mean Absolute Error:415.4224390299915\n",
      "Time to XGBRegressor Model for Fold 4: 29.906086921691895\n",
      "************************************************************************************************************************\n",
      "train_idx: [     0      1      2 ... 242616 242617 242618]\n",
      "val_idx: [242619 242620 242621 ... 291139 291140 291141]\n",
      "train: (242619, 28)\n",
      "val: (48523, 28)\n",
      "[0]\tvalidation_0-mae:496.66443\n",
      "[199]\tvalidation_0-mae:437.33842\n",
      "\n",
      "XGBRegressor Model Fold 5 Mean Absolute Error:437.33841958447556\n",
      "Time to XGBRegressor Model for Fold 5: 33.60679626464844\n",
      "************************************************************************************************************************\n",
      "XGBRegressor model run time is : 124.19587802886963 seconds\n",
      "XGBRegressor model has a mean of Mean Absolute Error Score: 392.1393885542187\n",
      "************************************************************************************************************************\n",
      "Evaluating CatBoostRegressor...\n",
      "train_idx: [    0     1     2 ... 48524 48525 48526]\n",
      "val_idx: [48527 48528 48529 ... 97047 97048 97049]\n",
      "train: (48527, 28)\n",
      "val: (48523, 28)\n",
      "0:\tlearn: 502.3279165\ttest: 593.7070511\tbest: 593.7070511 (0)\ttotal: 133ms\tremaining: 11m 4s\n",
      "250:\tlearn: 79.5074737\ttest: 319.1050827\tbest: 318.7279449 (237)\ttotal: 16.6s\tremaining: 5m 14s\n",
      "500:\tlearn: 56.2054525\ttest: 319.3604941\tbest: 318.7279449 (237)\ttotal: 34.2s\tremaining: 5m 6s\n",
      "Stopped by overfitting detector  (500 iterations wait)\n",
      "\n",
      "bestTest = 318.7279449\n",
      "bestIteration = 237\n",
      "\n",
      "Shrink model to first 238 iterations.\n",
      "\n",
      "CatBoostRegressor Model Fold 1 Mean Absolute Error:318.7279458877844\n",
      "Time to CatBoostRegressor Model for Fold 1: 51.11583662033081\n",
      "************************************************************************************************************************\n",
      "train_idx: [    0     1     2 ... 97047 97048 97049]\n",
      "val_idx: [ 97050  97051  97052 ... 145570 145571 145572]\n",
      "train: (97050, 28)\n",
      "val: (48523, 28)\n",
      "0:\tlearn: 564.5715129\ttest: 642.4043941\tbest: 642.4043941 (0)\ttotal: 126ms\tremaining: 10m 31s\n",
      "250:\tlearn: 88.0846101\ttest: 266.5996698\tbest: 265.5004493 (209)\ttotal: 27.7s\tremaining: 8m 43s\n",
      "500:\tlearn: 69.3848234\ttest: 264.2883513\tbest: 263.5779281 (378)\ttotal: 55.1s\tremaining: 8m 15s\n",
      "750:\tlearn: 56.7246994\ttest: 269.1421352\tbest: 263.5779281 (378)\ttotal: 1m 22s\tremaining: 7m 49s\n",
      "Stopped by overfitting detector  (500 iterations wait)\n",
      "\n",
      "bestTest = 263.5779281\n",
      "bestIteration = 378\n",
      "\n",
      "Shrink model to first 379 iterations.\n",
      "\n",
      "CatBoostRegressor Model Fold 2 Mean Absolute Error:263.5779291338836\n",
      "Time to CatBoostRegressor Model for Fold 2: 98.17411255836487\n",
      "************************************************************************************************************************\n",
      "train_idx: [     0      1      2 ... 145570 145571 145572]\n",
      "val_idx: [145573 145574 145575 ... 194093 194094 194095]\n",
      "train: (145573, 28)\n",
      "val: (48523, 28)\n",
      "0:\tlearn: 605.2117049\ttest: 705.0123989\tbest: 705.0123989 (0)\ttotal: 149ms\tremaining: 12m 23s\n",
      "250:\tlearn: 106.1208087\ttest: 327.6877933\tbest: 322.9170565 (151)\ttotal: 37s\tremaining: 11m 40s\n",
      "500:\tlearn: 82.7238740\ttest: 329.7501601\tbest: 322.9170565 (151)\ttotal: 1m 14s\tremaining: 11m 7s\n",
      "Stopped by overfitting detector  (500 iterations wait)\n",
      "\n",
      "bestTest = 322.9170565\n",
      "bestIteration = 151\n",
      "\n",
      "Shrink model to first 152 iterations.\n",
      "\n",
      "CatBoostRegressor Model Fold 3 Mean Absolute Error:322.9170575371748\n",
      "Time to CatBoostRegressor Model for Fold 3: 97.80047011375427\n",
      "************************************************************************************************************************\n",
      "train_idx: [     0      1      2 ... 194093 194094 194095]\n",
      "val_idx: [194096 194097 194098 ... 242616 242617 242618]\n",
      "train: (194096, 28)\n",
      "val: (48523, 28)\n",
      "0:\tlearn: 651.4144441\ttest: 751.7440289\tbest: 751.7440289 (0)\ttotal: 198ms\tremaining: 16m 28s\n",
      "250:\tlearn: 116.1635601\ttest: 363.7394605\tbest: 361.6306412 (176)\ttotal: 46.5s\tremaining: 14m 40s\n",
      "500:\tlearn: 92.5779297\ttest: 363.7489357\tbest: 361.6306412 (176)\ttotal: 1m 33s\tremaining: 13m 59s\n",
      "Stopped by overfitting detector  (500 iterations wait)\n",
      "\n",
      "bestTest = 361.6306412\n",
      "bestIteration = 176\n",
      "\n",
      "Shrink model to first 177 iterations.\n",
      "\n",
      "CatBoostRegressor Model Fold 4 Mean Absolute Error:361.6306422261512\n",
      "Time to CatBoostRegressor Model for Fold 4: 127.49056005477905\n",
      "************************************************************************************************************************\n",
      "train_idx: [     0      1      2 ... 242616 242617 242618]\n",
      "val_idx: [242619 242620 242621 ... 291139 291140 291141]\n",
      "train: (242619, 28)\n",
      "val: (48523, 28)\n",
      "0:\tlearn: 684.1036070\ttest: 793.0880014\tbest: 793.0880014 (0)\ttotal: 221ms\tremaining: 18m 27s\n",
      "250:\tlearn: 126.3426126\ttest: 408.8575798\tbest: 407.7752574 (184)\ttotal: 57.7s\tremaining: 18m 11s\n",
      "500:\tlearn: 104.1437715\ttest: 408.9165221\tbest: 405.5668974 (303)\ttotal: 1m 55s\tremaining: 17m 13s\n",
      "750:\tlearn: 91.3991312\ttest: 416.2172399\tbest: 405.5668974 (303)\ttotal: 2m 53s\tremaining: 16m 22s\n",
      "Stopped by overfitting detector  (500 iterations wait)\n",
      "\n",
      "bestTest = 405.5668974\n",
      "bestIteration = 303\n",
      "\n",
      "Shrink model to first 304 iterations.\n",
      "\n",
      "CatBoostRegressor Model Fold 5 Mean Absolute Error:405.5668983910419\n",
      "Time to CatBoostRegressor Model for Fold 5: 186.68592858314514\n",
      "************************************************************************************************************************\n",
      "CatBoostRegressor model run time is : 561.2669079303741 seconds\n",
      "CatBoostRegressor model has a mean of Mean Absolute Error Score: 334.48409463520716\n",
      "************************************************************************************************************************\n"
     ]
    }
   ],
   "source": [
    "X, y = df.drop(\"net_payment_count\", axis = 1), df[\"net_payment_count\"]\n",
    "feature_list = X.select_dtypes(include = [\"int\", \"float\", \"category\"]).columns\n",
    "cv = TimeSeriesSplit(config.n_splits)\n",
    "mean_absolute_error_scores, models, unseen_preds  = create_model(X = X,\n",
    "                                                    y = y,\n",
    "                                                    cv = cv,\n",
    "                                                    predicters = predicters,\n",
    "                                                    feature_list = feature_list)\n"
   ]
  },
  {
   "cell_type": "markdown",
   "id": "d2ffe0ce",
   "metadata": {
    "papermill": {
     "duration": 0.041256,
     "end_time": "2024-05-08T11:28:02.467740",
     "exception": false,
     "start_time": "2024-05-08T11:28:02.426484",
     "status": "completed"
    },
    "tags": []
   },
   "source": [
    "## XGBRegressor"
   ]
  },
  {
   "cell_type": "code",
   "execution_count": 81,
   "id": "b0e58f19",
   "metadata": {
    "execution": {
     "iopub.execute_input": "2024-05-08T11:28:02.554459Z",
     "iopub.status.busy": "2024-05-08T11:28:02.554094Z",
     "iopub.status.idle": "2024-05-08T11:28:05.680513Z",
     "shell.execute_reply": "2024-05-08T11:28:05.679686Z"
    },
    "papermill": {
     "duration": 3.172903,
     "end_time": "2024-05-08T11:28:05.682834",
     "exception": false,
     "start_time": "2024-05-08T11:28:02.509931",
     "status": "completed"
    },
    "tags": []
   },
   "outputs": [
    {
     "data": {
      "image/png": "[encoded data removed]",
      "text/plain": [
       "<Figure size 1500x600 with 2 Axes>"
      ]
     },
     "metadata": {},
     "output_type": "display_data"
    }
   ],
   "source": [
    "fig, ax = plt.subplots(nrows = 1, ncols = 2, figsize = (15,6))\n",
    "\n",
    "sns.lineplot(df.loc[48527:,\"net_payment_count\"], color = \"orange\", ax = ax[0])\n",
    "sns.lineplot(np.array(unseen_preds[:5]).flatten(), ax = ax[1])\n",
    "\n",
    "ax[0].set_title(\"Real Values\")\n",
    "ax[1].set_title(\"XGBRegressor Predict Values\")\n",
    "plt.show()"
   ]
  },
  {
   "cell_type": "code",
   "execution_count": 82,
   "id": "3f65c430",
   "metadata": {
    "execution": {
     "iopub.execute_input": "2024-05-08T11:28:05.770373Z",
     "iopub.status.busy": "2024-05-08T11:28:05.770041Z",
     "iopub.status.idle": "2024-05-08T11:28:06.137225Z",
     "shell.execute_reply": "2024-05-08T11:28:06.136315Z"
    },
    "papermill": {
     "duration": 0.413495,
     "end_time": "2024-05-08T11:28:06.139218",
     "exception": false,
     "start_time": "2024-05-08T11:28:05.725723",
     "status": "completed"
    },
    "tags": []
   },
   "outputs": [
    {
     "data": {
      "image/png": "[encoded data removed]",
      "text/plain": [
       "<Figure size 640x480 with 1 Axes>"
      ]
     },
     "metadata": {},
     "output_type": "display_data"
    }
   ],
   "source": [
    "importances = [model.feature_importances_ for model in models[:5]]\n",
    "\n",
    "f_importance = pd.concat([pd.Series(feature_list,name='Feature'),\n",
    "                          pd.Series(np.mean(importances,axis=0),name=\"Importance\")],\n",
    "                         axis=1).sort_values(by='Importance',\n",
    "                                             ascending=False)\n",
    "\n",
    "sns.barplot(f_importance[:20],x='Importance',y='Feature')\n",
    "plt.title(\"First 20 Important Features - XBGRegressor Average of Folds\", fontsize = 15)\n",
    "\n",
    "plt.show()"
   ]
  },
  {
   "cell_type": "code",
   "execution_count": 83,
   "id": "d19d1e7d",
   "metadata": {
    "execution": {
     "iopub.execute_input": "2024-05-08T11:28:06.228665Z",
     "iopub.status.busy": "2024-05-08T11:28:06.228295Z",
     "iopub.status.idle": "2024-05-08T11:28:06.233050Z",
     "shell.execute_reply": "2024-05-08T11:28:06.232167Z"
    },
    "papermill": {
     "duration": 0.051489,
     "end_time": "2024-05-08T11:28:06.235064",
     "exception": false,
     "start_time": "2024-05-08T11:28:06.183575",
     "status": "completed"
    },
    "tags": []
   },
   "outputs": [],
   "source": [
    "xgb_worst_20_features = f_importance[-20:][\"Feature\"].to_list()"
   ]
  },
  {
   "cell_type": "markdown",
   "id": "e8ff5fe4",
   "metadata": {
    "papermill": {
     "duration": 0.04296,
     "end_time": "2024-05-08T11:28:06.322043",
     "exception": false,
     "start_time": "2024-05-08T11:28:06.279083",
     "status": "completed"
    },
    "tags": []
   },
   "source": [
    "## CatBoostRegressor"
   ]
  },
  {
   "cell_type": "code",
   "execution_count": 84,
   "id": "46e4c104",
   "metadata": {
    "execution": {
     "iopub.execute_input": "2024-05-08T11:28:06.412799Z",
     "iopub.status.busy": "2024-05-08T11:28:06.412130Z",
     "iopub.status.idle": "2024-05-08T11:28:09.635956Z",
     "shell.execute_reply": "2024-05-08T11:28:09.634980Z"
    },
    "papermill": {
     "duration": 3.27225,
     "end_time": "2024-05-08T11:28:09.637924",
     "exception": false,
     "start_time": "2024-05-08T11:28:06.365674",
     "status": "completed"
    },
    "tags": []
   },
   "outputs": [
    {
     "data": {
      "image/png": "[encoded data removed]",
      "text/plain": [
       "<Figure size 1500x600 with 2 Axes>"
      ]
     },
     "metadata": {},
     "output_type": "display_data"
    }
   ],
   "source": [
    "fig, ax = plt.subplots(nrows = 1, ncols = 2, figsize = (15,6))\n",
    "\n",
    "sns.lineplot(df.loc[48527:,\"net_payment_count\"], color = \"orange\", ax = ax[0])\n",
    "sns.lineplot(np.array(unseen_preds[5:10]).flatten(), ax = ax[1])\n",
    "\n",
    "ax[0].set_title(\"Real Values\")\n",
    "ax[1].set_title(\"CatBoostRegressor Predict Values\")\n",
    "plt.show()"
   ]
  },
  {
   "cell_type": "code",
   "execution_count": 85,
   "id": "efe487b2",
   "metadata": {
    "execution": {
     "iopub.execute_input": "2024-05-08T11:28:09.727756Z",
     "iopub.status.busy": "2024-05-08T11:28:09.727444Z",
     "iopub.status.idle": "2024-05-08T11:28:10.266693Z",
     "shell.execute_reply": "2024-05-08T11:28:10.265877Z"
    },
    "papermill": {
     "duration": 0.586545,
     "end_time": "2024-05-08T11:28:10.269079",
     "exception": false,
     "start_time": "2024-05-08T11:28:09.682534",
     "status": "completed"
    },
    "tags": []
   },
   "outputs": [
    {
     "data": {
      "image/png": "[encoded data removed]",
      "text/plain": [
       "<Figure size 640x480 with 1 Axes>"
      ]
     },
     "metadata": {},
     "output_type": "display_data"
    }
   ],
   "source": [
    "importances = [model.feature_importances_ for model in models[5:10]]\n",
    "\n",
    "f_importance = pd.concat([pd.Series(feature_list,name='Feature'),\n",
    "                          pd.Series(np.mean(importances,axis=0),name=\"Importance\")],\n",
    "                         axis=1).sort_values(by='Importance',\n",
    "                                             ascending=False)\n",
    "\n",
    "sns.barplot(f_importance[:20],x='Importance',y='Feature')\n",
    "plt.title(\"First 20 Important Features - CatBoostRegressor Average of Folds\", fontsize = 15)\n",
    "\n",
    "plt.show()"
   ]
  },
  {
   "cell_type": "code",
   "execution_count": 86,
   "id": "aeb57122",
   "metadata": {
    "execution": {
     "iopub.execute_input": "2024-05-08T11:28:10.364235Z",
     "iopub.status.busy": "2024-05-08T11:28:10.363894Z",
     "iopub.status.idle": "2024-05-08T11:28:10.371470Z",
     "shell.execute_reply": "2024-05-08T11:28:10.370534Z"
    },
    "papermill": {
     "duration": 0.057197,
     "end_time": "2024-05-08T11:28:10.373365",
     "exception": false,
     "start_time": "2024-05-08T11:28:10.316168",
     "status": "completed"
    },
    "tags": []
   },
   "outputs": [
    {
     "data": {
      "text/plain": [
       "['mcc_id',\n",
       " 'settlement_period',\n",
       " 'monthly_inflation_rate',\n",
       " 'month',\n",
       " 'net_payment_count_roll_mean_182',\n",
       " 'net_payment_count_roll_mean_91',\n",
       " 'net_payment_count_roll_mean_402',\n",
       " 'monthly_average_temperature_values',\n",
       " 'min_net_payment_count_by_mcc_id',\n",
       " 'median_net_payment_count_by_mcc_id',\n",
       " 'std_net_payment_count_by_mcc_id',\n",
       " 'mean_net_payment_count_by_mcc_id',\n",
       " 'settlement_period_frequence',\n",
       " 'merchant_source_name_frequence']"
      ]
     },
     "execution_count": 86,
     "metadata": {},
     "output_type": "execute_result"
    }
   ],
   "source": [
    "cat_worst_20_features = f_importance[-20:][\"Feature\"].to_list()\n",
    "common_worst_features = [wf for wf in xgb_worst_20_features if wf in cat_worst_20_features]\n",
    "common_worst_features"
   ]
  },
  {
   "cell_type": "code",
   "execution_count": 87,
   "id": "51efa742",
   "metadata": {
    "execution": {
     "iopub.execute_input": "2024-05-08T11:28:10.466496Z",
     "iopub.status.busy": "2024-05-08T11:28:10.466190Z",
     "iopub.status.idle": "2024-05-08T11:28:11.071067Z",
     "shell.execute_reply": "2024-05-08T11:28:11.070290Z"
    },
    "papermill": {
     "duration": 0.653925,
     "end_time": "2024-05-08T11:28:11.073373",
     "exception": false,
     "start_time": "2024-05-08T11:28:10.419448",
     "status": "completed"
    },
    "tags": []
   },
   "outputs": [],
   "source": [
    "df_sub[\"id\"] = df_sub[\"year\"].astype(str) + df_sub[\"month\"].astype(str) + \"merchant_\" + df_sub[\"merchant_id\"].astype(str)\n",
    "\n",
    "model_sub = models[9] #Fold 5 of CatBoostRegressor\n",
    "preds_sub = model_sub.predict(df_sub[feature_list])\n",
    "df_sub[\"net_payment_count\"] = preds_sub\n",
    "\n",
    "a = pd.read_csv(config.dir_sub)\n",
    "submission = pd.merge(a[\"id\"],df_sub[[\"id\", \"net_payment_count\"]], on = \"id\").set_index(\"id\")\n",
    "submission.to_csv(\"submission.csv\")"
   ]
  }
 ],
 "metadata": {
  "kaggle": {
   "accelerator": "nvidiaTeslaT4",
   "dataSources": [
    {
     "databundleVersionId": 7547755,
     "sourceId": 67726,
     "sourceType": "competition"
    }
   ],
   "dockerImageVersionId": 30699,
   "isGpuEnabled": true,
   "isInternetEnabled": true,
   "language": "python",
   "sourceType": "notebook"
  },
  "kernelspec": {
   "display_name": "Python 3",
   "language": "python",
   "name": "python3"
  },
  "language_info": {
   "codemirror_mode": {
    "name": "ipython",
    "version": 3
   },
   "file_extension": ".py",
   "mimetype": "text/x-python",
   "name": "python",
   "nbconvert_exporter": "python",
   "pygments_lexer": "ipython3",
   "version": "3.10.13"
  },
  "papermill": {
   "default_parameters": {},
   "duration": 742.227715,
   "end_time": "2024-05-08T11:28:11.740734",
   "environment_variables": {},
   "exception": null,
   "input_path": "__notebook__.ipynb",
   "output_path": "__notebook__.ipynb",
   "parameters": {},
   "start_time": "2024-05-08T11:15:49.513019",
   "version": "2.4.0"
  }
 },
 "nbformat": 4,
 "nbformat_minor": 5
}
